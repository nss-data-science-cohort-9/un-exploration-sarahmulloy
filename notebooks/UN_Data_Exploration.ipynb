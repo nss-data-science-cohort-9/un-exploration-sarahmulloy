{
 "cells": [
  {
   "cell_type": "markdown",
   "id": "b2e51f21-15e8-49e3-8edd-ecb199992f32",
   "metadata": {},
   "source": [
    "# UN Exploration exercise for NSS DataScience \n",
    "Exercise github link: https://github.com/nss-data-science-cohort-9/un-exploration-sarahmulloy"
   ]
  },
  {
   "cell_type": "code",
   "execution_count": 1,
   "id": "8954e0eb-9969-4472-8865-238cad743642",
   "metadata": {},
   "outputs": [],
   "source": [
    "import pandas as pd\n",
    "import numpy as np\n",
    "import matplotlib.pyplot as plt\n",
    "import seaborn as sns"
   ]
  },
  {
   "cell_type": "markdown",
   "id": "ed5ca40b-6d0c-4dc0-bf30-327d66b324de",
   "metadata": {},
   "source": [
    "### 4. Using the pandas read_csv() function, read the GDP dataset into your notebook as a DataFrame called gdp_df. After reading it in, inspect the first 10 rows and then inspect the last 10 rows."
   ]
  },
  {
   "cell_type": "code",
   "execution_count": 29,
   "id": "f51cdf7d-59ae-40a9-824e-b5d8d35a8290",
   "metadata": {},
   "outputs": [
    {
     "data": {
      "text/html": [
       "<div>\n",
       "<style scoped>\n",
       "    .dataframe tbody tr th:only-of-type {\n",
       "        vertical-align: middle;\n",
       "    }\n",
       "\n",
       "    .dataframe tbody tr th {\n",
       "        vertical-align: top;\n",
       "    }\n",
       "\n",
       "    .dataframe thead th {\n",
       "        text-align: right;\n",
       "    }\n",
       "</style>\n",
       "<table border=\"1\" class=\"dataframe\">\n",
       "  <thead>\n",
       "    <tr style=\"text-align: right;\">\n",
       "      <th></th>\n",
       "      <th>Country or Area</th>\n",
       "      <th>Year</th>\n",
       "      <th>Value</th>\n",
       "      <th>Value Footnotes</th>\n",
       "    </tr>\n",
       "  </thead>\n",
       "  <tbody>\n",
       "    <tr>\n",
       "      <th>0</th>\n",
       "      <td>Afghanistan</td>\n",
       "      <td>2023</td>\n",
       "      <td>1992.424394</td>\n",
       "      <td>NaN</td>\n",
       "    </tr>\n",
       "    <tr>\n",
       "      <th>1</th>\n",
       "      <td>Afghanistan</td>\n",
       "      <td>2022</td>\n",
       "      <td>1981.710168</td>\n",
       "      <td>NaN</td>\n",
       "    </tr>\n",
       "    <tr>\n",
       "      <th>2</th>\n",
       "      <td>Afghanistan</td>\n",
       "      <td>2021</td>\n",
       "      <td>2144.166570</td>\n",
       "      <td>NaN</td>\n",
       "    </tr>\n",
       "    <tr>\n",
       "      <th>3</th>\n",
       "      <td>Afghanistan</td>\n",
       "      <td>2020</td>\n",
       "      <td>2769.685745</td>\n",
       "      <td>NaN</td>\n",
       "    </tr>\n",
       "    <tr>\n",
       "      <th>4</th>\n",
       "      <td>Afghanistan</td>\n",
       "      <td>2019</td>\n",
       "      <td>2927.245144</td>\n",
       "      <td>NaN</td>\n",
       "    </tr>\n",
       "    <tr>\n",
       "      <th>5</th>\n",
       "      <td>Afghanistan</td>\n",
       "      <td>2018</td>\n",
       "      <td>2902.392113</td>\n",
       "      <td>NaN</td>\n",
       "    </tr>\n",
       "    <tr>\n",
       "      <th>6</th>\n",
       "      <td>Afghanistan</td>\n",
       "      <td>2017</td>\n",
       "      <td>2952.998916</td>\n",
       "      <td>NaN</td>\n",
       "    </tr>\n",
       "    <tr>\n",
       "      <th>7</th>\n",
       "      <td>Afghanistan</td>\n",
       "      <td>2016</td>\n",
       "      <td>2958.785399</td>\n",
       "      <td>NaN</td>\n",
       "    </tr>\n",
       "    <tr>\n",
       "      <th>8</th>\n",
       "      <td>Afghanistan</td>\n",
       "      <td>2015</td>\n",
       "      <td>2967.692067</td>\n",
       "      <td>NaN</td>\n",
       "    </tr>\n",
       "    <tr>\n",
       "      <th>9</th>\n",
       "      <td>Afghanistan</td>\n",
       "      <td>2014</td>\n",
       "      <td>3017.942544</td>\n",
       "      <td>NaN</td>\n",
       "    </tr>\n",
       "  </tbody>\n",
       "</table>\n",
       "</div>"
      ],
      "text/plain": [
       "  Country or Area  Year        Value  Value Footnotes\n",
       "0     Afghanistan  2023  1992.424394              NaN\n",
       "1     Afghanistan  2022  1981.710168              NaN\n",
       "2     Afghanistan  2021  2144.166570              NaN\n",
       "3     Afghanistan  2020  2769.685745              NaN\n",
       "4     Afghanistan  2019  2927.245144              NaN\n",
       "5     Afghanistan  2018  2902.392113              NaN\n",
       "6     Afghanistan  2017  2952.998916              NaN\n",
       "7     Afghanistan  2016  2958.785399              NaN\n",
       "8     Afghanistan  2015  2967.692067              NaN\n",
       "9     Afghanistan  2014  3017.942544              NaN"
      ]
     },
     "execution_count": 29,
     "metadata": {},
     "output_type": "execute_result"
    }
   ],
   "source": [
    "gdp_df= pd.read_csv('../data/gdp_per_capita.csv.csv')\n",
    "gdp_df.head(10)"
   ]
  },
  {
   "cell_type": "code",
   "execution_count": 25,
   "id": "d7dd931e",
   "metadata": {},
   "outputs": [
    {
     "data": {
      "text/html": [
       "<div>\n",
       "<style scoped>\n",
       "    .dataframe tbody tr th:only-of-type {\n",
       "        vertical-align: middle;\n",
       "    }\n",
       "\n",
       "    .dataframe tbody tr th {\n",
       "        vertical-align: top;\n",
       "    }\n",
       "\n",
       "    .dataframe thead th {\n",
       "        text-align: right;\n",
       "    }\n",
       "</style>\n",
       "<table border=\"1\" class=\"dataframe\">\n",
       "  <thead>\n",
       "    <tr style=\"text-align: right;\">\n",
       "      <th></th>\n",
       "      <th>Country or Area</th>\n",
       "      <th>Year</th>\n",
       "      <th>Value</th>\n",
       "      <th>Value Footnotes</th>\n",
       "    </tr>\n",
       "  </thead>\n",
       "  <tbody>\n",
       "    <tr>\n",
       "      <th>8209</th>\n",
       "      <td>Zimbabwe</td>\n",
       "      <td>1999</td>\n",
       "      <td>4238.195198</td>\n",
       "      <td>NaN</td>\n",
       "    </tr>\n",
       "    <tr>\n",
       "      <th>8210</th>\n",
       "      <td>Zimbabwe</td>\n",
       "      <td>1998</td>\n",
       "      <td>4342.858177</td>\n",
       "      <td>NaN</td>\n",
       "    </tr>\n",
       "    <tr>\n",
       "      <th>8211</th>\n",
       "      <td>Zimbabwe</td>\n",
       "      <td>1997</td>\n",
       "      <td>4304.406272</td>\n",
       "      <td>NaN</td>\n",
       "    </tr>\n",
       "    <tr>\n",
       "      <th>8212</th>\n",
       "      <td>Zimbabwe</td>\n",
       "      <td>1996</td>\n",
       "      <td>4271.479930</td>\n",
       "      <td>NaN</td>\n",
       "    </tr>\n",
       "    <tr>\n",
       "      <th>8213</th>\n",
       "      <td>Zimbabwe</td>\n",
       "      <td>1995</td>\n",
       "      <td>3935.280057</td>\n",
       "      <td>NaN</td>\n",
       "    </tr>\n",
       "    <tr>\n",
       "      <th>8214</th>\n",
       "      <td>Zimbabwe</td>\n",
       "      <td>1994</td>\n",
       "      <td>3965.730986</td>\n",
       "      <td>NaN</td>\n",
       "    </tr>\n",
       "    <tr>\n",
       "      <th>8215</th>\n",
       "      <td>Zimbabwe</td>\n",
       "      <td>1993</td>\n",
       "      <td>3634.750494</td>\n",
       "      <td>NaN</td>\n",
       "    </tr>\n",
       "    <tr>\n",
       "      <th>8216</th>\n",
       "      <td>Zimbabwe</td>\n",
       "      <td>1992</td>\n",
       "      <td>3649.891947</td>\n",
       "      <td>NaN</td>\n",
       "    </tr>\n",
       "    <tr>\n",
       "      <th>8217</th>\n",
       "      <td>Zimbabwe</td>\n",
       "      <td>1991</td>\n",
       "      <td>4126.405247</td>\n",
       "      <td>NaN</td>\n",
       "    </tr>\n",
       "    <tr>\n",
       "      <th>8218</th>\n",
       "      <td>Zimbabwe</td>\n",
       "      <td>1990</td>\n",
       "      <td>4013.299059</td>\n",
       "      <td>NaN</td>\n",
       "    </tr>\n",
       "  </tbody>\n",
       "</table>\n",
       "</div>"
      ],
      "text/plain": [
       "     Country or Area  Year        Value  Value Footnotes\n",
       "8209        Zimbabwe  1999  4238.195198              NaN\n",
       "8210        Zimbabwe  1998  4342.858177              NaN\n",
       "8211        Zimbabwe  1997  4304.406272              NaN\n",
       "8212        Zimbabwe  1996  4271.479930              NaN\n",
       "8213        Zimbabwe  1995  3935.280057              NaN\n",
       "8214        Zimbabwe  1994  3965.730986              NaN\n",
       "8215        Zimbabwe  1993  3634.750494              NaN\n",
       "8216        Zimbabwe  1992  3649.891947              NaN\n",
       "8217        Zimbabwe  1991  4126.405247              NaN\n",
       "8218        Zimbabwe  1990  4013.299059              NaN"
      ]
     },
     "execution_count": 25,
     "metadata": {},
     "output_type": "execute_result"
    }
   ],
   "source": [
    "gdp_df.tail(10)"
   ]
  },
  {
   "cell_type": "code",
   "execution_count": 26,
   "id": "df7ce169-73fe-4940-a760-ffc69dea8b6e",
   "metadata": {},
   "outputs": [
    {
     "data": {
      "text/html": [
       "<div>\n",
       "<style scoped>\n",
       "    .dataframe tbody tr th:only-of-type {\n",
       "        vertical-align: middle;\n",
       "    }\n",
       "\n",
       "    .dataframe tbody tr th {\n",
       "        vertical-align: top;\n",
       "    }\n",
       "\n",
       "    .dataframe thead th {\n",
       "        text-align: right;\n",
       "    }\n",
       "</style>\n",
       "<table border=\"1\" class=\"dataframe\">\n",
       "  <thead>\n",
       "    <tr style=\"text-align: right;\">\n",
       "      <th></th>\n",
       "      <th>Country or Area</th>\n",
       "      <th>Year</th>\n",
       "      <th>Value</th>\n",
       "      <th>Value Footnotes</th>\n",
       "    </tr>\n",
       "  </thead>\n",
       "  <tbody>\n",
       "    <tr>\n",
       "      <th>429</th>\n",
       "      <td>Australia</td>\n",
       "      <td>1992</td>\n",
       "      <td>35342.068707</td>\n",
       "      <td>NaN</td>\n",
       "    </tr>\n",
       "    <tr>\n",
       "      <th>5897</th>\n",
       "      <td>Peru</td>\n",
       "      <td>2004</td>\n",
       "      <td>8497.498349</td>\n",
       "      <td>NaN</td>\n",
       "    </tr>\n",
       "    <tr>\n",
       "      <th>4002</th>\n",
       "      <td>Latin America &amp; Caribbean</td>\n",
       "      <td>2003</td>\n",
       "      <td>14538.982330</td>\n",
       "      <td>NaN</td>\n",
       "    </tr>\n",
       "    <tr>\n",
       "      <th>662</th>\n",
       "      <td>Belgium</td>\n",
       "      <td>1997</td>\n",
       "      <td>46374.539898</td>\n",
       "      <td>NaN</td>\n",
       "    </tr>\n",
       "    <tr>\n",
       "      <th>2543</th>\n",
       "      <td>France</td>\n",
       "      <td>2020</td>\n",
       "      <td>49266.751899</td>\n",
       "      <td>NaN</td>\n",
       "    </tr>\n",
       "    <tr>\n",
       "      <th>2799</th>\n",
       "      <td>Grenada</td>\n",
       "      <td>2000</td>\n",
       "      <td>11632.174453</td>\n",
       "      <td>NaN</td>\n",
       "    </tr>\n",
       "    <tr>\n",
       "      <th>745</th>\n",
       "      <td>Bermuda</td>\n",
       "      <td>2016</td>\n",
       "      <td>92519.400772</td>\n",
       "      <td>NaN</td>\n",
       "    </tr>\n",
       "    <tr>\n",
       "      <th>7211</th>\n",
       "      <td>Switzerland</td>\n",
       "      <td>2017</td>\n",
       "      <td>77499.165225</td>\n",
       "      <td>NaN</td>\n",
       "    </tr>\n",
       "    <tr>\n",
       "      <th>8186</th>\n",
       "      <td>Zimbabwe</td>\n",
       "      <td>2022</td>\n",
       "      <td>3323.121932</td>\n",
       "      <td>NaN</td>\n",
       "    </tr>\n",
       "    <tr>\n",
       "      <th>7508</th>\n",
       "      <td>Timor-Leste</td>\n",
       "      <td>1991</td>\n",
       "      <td>2318.855041</td>\n",
       "      <td>NaN</td>\n",
       "    </tr>\n",
       "  </tbody>\n",
       "</table>\n",
       "</div>"
      ],
      "text/plain": [
       "                Country or Area  Year         Value  Value Footnotes\n",
       "429                   Australia  1992  35342.068707              NaN\n",
       "5897                       Peru  2004   8497.498349              NaN\n",
       "4002  Latin America & Caribbean  2003  14538.982330              NaN\n",
       "662                     Belgium  1997  46374.539898              NaN\n",
       "2543                     France  2020  49266.751899              NaN\n",
       "2799                    Grenada  2000  11632.174453              NaN\n",
       "745                     Bermuda  2016  92519.400772              NaN\n",
       "7211                Switzerland  2017  77499.165225              NaN\n",
       "8186                   Zimbabwe  2022   3323.121932              NaN\n",
       "7508                Timor-Leste  1991   2318.855041              NaN"
      ]
     },
     "execution_count": 26,
     "metadata": {},
     "output_type": "execute_result"
    }
   ],
   "source": [
    "gdp_df.sample(10)"
   ]
  },
  {
   "cell_type": "markdown",
   "id": "34b0ad1d-5dbf-4db9-9795-bd7af437d8b5",
   "metadata": {},
   "source": [
    "### 5. Drop the 'Value Footnotes' column, and rename the remaining columns to 'Country', 'Year', and 'GDP_Per_Capita'."
   ]
  },
  {
   "cell_type": "code",
   "execution_count": 30,
   "id": "981bb6db-e5c2-4afd-b21d-9062101bbfed",
   "metadata": {},
   "outputs": [
    {
     "data": {
      "text/html": [
       "<div>\n",
       "<style scoped>\n",
       "    .dataframe tbody tr th:only-of-type {\n",
       "        vertical-align: middle;\n",
       "    }\n",
       "\n",
       "    .dataframe tbody tr th {\n",
       "        vertical-align: top;\n",
       "    }\n",
       "\n",
       "    .dataframe thead th {\n",
       "        text-align: right;\n",
       "    }\n",
       "</style>\n",
       "<table border=\"1\" class=\"dataframe\">\n",
       "  <thead>\n",
       "    <tr style=\"text-align: right;\">\n",
       "      <th></th>\n",
       "      <th>Country</th>\n",
       "      <th>Year</th>\n",
       "      <th>GDP_Per_Capita</th>\n",
       "    </tr>\n",
       "  </thead>\n",
       "  <tbody>\n",
       "    <tr>\n",
       "      <th>0</th>\n",
       "      <td>Afghanistan</td>\n",
       "      <td>2023</td>\n",
       "      <td>1992.424394</td>\n",
       "    </tr>\n",
       "    <tr>\n",
       "      <th>1</th>\n",
       "      <td>Afghanistan</td>\n",
       "      <td>2022</td>\n",
       "      <td>1981.710168</td>\n",
       "    </tr>\n",
       "    <tr>\n",
       "      <th>2</th>\n",
       "      <td>Afghanistan</td>\n",
       "      <td>2021</td>\n",
       "      <td>2144.166570</td>\n",
       "    </tr>\n",
       "    <tr>\n",
       "      <th>3</th>\n",
       "      <td>Afghanistan</td>\n",
       "      <td>2020</td>\n",
       "      <td>2769.685745</td>\n",
       "    </tr>\n",
       "    <tr>\n",
       "      <th>4</th>\n",
       "      <td>Afghanistan</td>\n",
       "      <td>2019</td>\n",
       "      <td>2927.245144</td>\n",
       "    </tr>\n",
       "  </tbody>\n",
       "</table>\n",
       "</div>"
      ],
      "text/plain": [
       "       Country  Year  GDP_Per_Capita\n",
       "0  Afghanistan  2023     1992.424394\n",
       "1  Afghanistan  2022     1981.710168\n",
       "2  Afghanistan  2021     2144.166570\n",
       "3  Afghanistan  2020     2769.685745\n",
       "4  Afghanistan  2019     2927.245144"
      ]
     },
     "execution_count": 30,
     "metadata": {},
     "output_type": "execute_result"
    }
   ],
   "source": [
    "gdp_df= (\n",
    "    gdp_df\n",
    "    .drop('Value Footnotes', axis=1)\n",
    ")\n",
    "gdp_df.columns=['Country', 'Year', 'GDP_Per_Capita']\n",
    "gdp_df.head()"
   ]
  },
  {
   "cell_type": "markdown",
   "id": "c1238054-0e3a-450e-9f3d-2f58705f7892",
   "metadata": {},
   "source": [
    "### 6. How many rows and columns does gdp_df have? What are the data types of its columns? If any of the columns are not the expected types, figure out why and fix it."
   ]
  },
  {
   "cell_type": "code",
   "execution_count": 39,
   "id": "b3bf02ea-3748-4bfa-9a9f-ed99df41bcce",
   "metadata": {},
   "outputs": [
    {
     "name": "stdout",
     "output_type": "stream",
     "text": [
      "gdp_df has 8219 rows and 3 columns\n",
      "<class 'pandas.core.frame.DataFrame'>\n",
      "RangeIndex: 8219 entries, 0 to 8218\n",
      "Data columns (total 3 columns):\n",
      " #   Column          Non-Null Count  Dtype  \n",
      "---  ------          --------------  -----  \n",
      " 0   Country         8219 non-null   object \n",
      " 1   Year            8219 non-null   int64  \n",
      " 2   GDP_Per_Capita  8219 non-null   float64\n",
      "dtypes: float64(1), int64(1), object(1)\n",
      "memory usage: 192.8+ KB\n"
     ]
    },
    {
     "data": {
      "text/plain": [
       "Index(['Country', 'Year', 'GDP_Per_Capita'], dtype='object')"
      ]
     },
     "execution_count": 39,
     "metadata": {},
     "output_type": "execute_result"
    }
   ],
   "source": [
    "num_rows, num_col= gdp_df.shape\n",
    "print(f\"gdp_df has {num_rows} rows and {num_col} columns\")\n",
    "\n",
    "gdp_df.info();\n",
    "#gdp_df.dtypes()\n",
    "gdp_df.columns"
   ]
  },
  {
   "cell_type": "markdown",
   "id": "aa3fa448-14e6-48d7-b1d8-34c41c8499fe",
   "metadata": {},
   "source": [
    "**response**: gdf has mutliple datatypes in each column, as shown in the printed table above. The first column \"Country or Area\" is an object Dtype and most content are strings of country names. The second column \"Year\" is an intefer daatype, and the \"Value\" column is a float datatype, which means that it has numbers with decimal points. \n",
    "\n",
    "All of the columns have non-null values (so no \"NaN\" values to be addressed), and all three columns are the expected datatypes so nothing needs to be changed."
   ]
  },
  {
   "cell_type": "markdown",
   "id": "a5e9cc25-135c-4a4c-8945-e2507f7b5b9c",
   "metadata": {},
   "source": [
    "### 7. Which years are represented in this dataset? Take a look at the number of observations per year. What do you notice?"
   ]
  },
  {
   "cell_type": "code",
   "execution_count": 49,
   "id": "98119887-6784-486a-a61b-7df88a23b829",
   "metadata": {},
   "outputs": [
    {
     "name": "stdout",
     "output_type": "stream",
     "text": [
      "The dataset covers 1990 - 2023\n"
     ]
    },
    {
     "data": {
      "image/png": "[encoded data removed]",
      "text/plain": [
       "<Figure size 640x480 with 1 Axes>"
      ]
     },
     "metadata": {},
     "output_type": "display_data"
    },
    {
     "data": {
      "image/png": "[encoded data removed]",
      "text/plain": [
       "<Figure size 640x480 with 1 Axes>"
      ]
     },
     "metadata": {},
     "output_type": "display_data"
    }
   ],
   "source": [
    "year_list= gdp_df['Year'].value_counts().index\n",
    "print(f'The dataset covers {year_list.min()} - {year_list.max()}')\n",
    "obs_by_year= gdp_df['Year'].value_counts().to_list()\n",
    "year_data_as_series= gdp_df['Year'].value_counts()\n",
    "\n",
    "plt.scatter(year_list, obs_by_year)\n",
    "plt.xlabel(\"Year\")\n",
    "plt.ylabel('Number of Observations')\n",
    "plt.title(\"Number of observations per year\")\n",
    "plt.show()\n",
    "\n",
    "###\n",
    "#Cleaner code\n",
    "###\n",
    "gdp_df['Year'].value_counts().plot()\n",
    "plt.xlabel(\"Year\")\n",
    "plt.ylabel('Number of Observations')\n",
    "plt.title(\"Version 2: Number of observations per year\")\n",
    "plt.show()"
   ]
  },
  {
   "cell_type": "markdown",
   "id": "59f92507-824d-4e83-8e74-e03f70ba0f2a",
   "metadata": {},
   "source": [
    "### 8. How many countries are represented in this dataset? Which countries are least represented in the dataset? Why do you think these countries have so few observations?"
   ]
  },
  {
   "cell_type": "code",
   "execution_count": 50,
   "id": "5b432d0c-3385-46a3-800c-56f68091c1c3",
   "metadata": {},
   "outputs": [
    {
     "name": "stdout",
     "output_type": "stream",
     "text": [
      "The most observations per country is 34 and the least number of observations is 11\n"
     ]
    },
    {
     "data": {
      "image/png": "[encoded data removed]",
      "text/plain": [
       "<Figure size 640x480 with 1 Axes>"
      ]
     },
     "metadata": {},
     "output_type": "display_data"
    },
    {
     "name": "stdout",
     "output_type": "stream",
     "text": [
      "The country with the least amount of observations is Djibouti with 11 observations\n",
      "14 observation categories only have 1 country represented\n"
     ]
    },
    {
     "name": "stderr",
     "output_type": "stream",
     "text": [
      "C:\\Users\\Mullo\\AppData\\Local\\Temp\\ipykernel_35776\\3686199713.py:19: FutureWarning: Series.__getitem__ treating keys as positions is deprecated. In a future version, integer keys will always be treated as labels (consistent with DataFrame behavior). To access a value by position, use `ser.iloc[pos]`\n",
      "  nobs_min_ctry= nobs_grouped.loc[ctry_w_min_obs]['count'][0]\n"
     ]
    }
   ],
   "source": [
    "#calcualte the min and max number of observations for each country\n",
    "min_num_obs_pct= gdp_df['Country'].value_counts().unique().min()\n",
    "max_num_obs_pct= gdp_df['Country'].value_counts().unique().max()\n",
    "print(f\"The most observations per country is {max_num_obs_pct} and the least number of observations is {min_num_obs_pct}\")\n",
    "\n",
    "#calcualte the number of countries in each \"observation count\" category group by using groupby\n",
    "nobs_grouped= pd.DataFrame(gdp_df['Country'].value_counts())\n",
    "nobs_by_ctry= nobs_grouped.groupby('count')['count'].count()\n",
    "\n",
    "#Make a plot by number of obervations per country (which means number of years with data for each country)\n",
    "plt.bar(x= nobs_by_ctry.index, height=nobs_by_ctry)\n",
    "plt.title(\"Number of countries included in the number of years with observed data\")\n",
    "plt.xlabel(\"Number of obervations\")\n",
    "plt.ylabel(\"Number of countries in each observation categories\")\n",
    "plt.show()\n",
    "\n",
    "#pull out the country index name that has the least number of observations \n",
    "ctry_w_min_obs= nobs_grouped[nobs_grouped['count']== nobs_grouped['count'].min()].index\n",
    "nobs_min_ctry= nobs_grouped.loc[ctry_w_min_obs]['count'][0]\n",
    "# #Summarize the findings \n",
    "print(f\"The country with the least amount of observations is {ctry_w_min_obs[0]} with {nobs_min_ctry} observations\")\n",
    "\n",
    "#Calculate the number of observations that only have 1 country \n",
    "nobs_onecty= (nobs_by_ctry == 1).count()\n",
    "\n",
    "print(f\"{nobs_onecty} observation categories only have 1 country represented\")"
   ]
  },
  {
   "cell_type": "code",
   "execution_count": 9,
   "id": "0ab358e6-c19d-49ed-b30c-c43c74c4dad3",
   "metadata": {},
   "outputs": [
    {
     "name": "stdout",
     "output_type": "stream",
     "text": [
      "The country with the smallest number of observation is Djibouti\n",
      "There are 228 countries that have the largest number of observations\n"
     ]
    }
   ],
   "source": [
    "#additional solution to streamline that analysis: \n",
    "\n",
    "#Sort by value_counts and then use 'n_largest', and use the keep='all' to include all the \"tie\" values \n",
    "large_country= gdp_df['Country or Area'].value_counts().nlargest(n=1, keep='all').index.to_list()\n",
    "small_country= gdp_df['Country or Area'].value_counts().nsmallest(n=1, keep='all').index.to_list()\n",
    "\n",
    "print(f'The country with the smallest number of observation is {small_country[0]}')\n",
    "print(f'There are {len(large_country)} countries that have the largest number of observations')"
   ]
  },
  {
   "cell_type": "markdown",
   "id": "6795378a-052f-4c84-8f4b-edd46265f068",
   "metadata": {},
   "source": [
    "**response:** Djibouti likely has the least number of observations based on the sampling method of the UN. They may not have been able to collect data for all years based on their reporting methods."
   ]
  },
  {
   "cell_type": "markdown",
   "id": "9b9462c9-7810-4da5-880a-a4ee624b00c0",
   "metadata": {},
   "source": [
    "## 9. Create a new dataframe by subsetting gdp_df to just the year 2021. Call this new dataframe gdp_2021."
   ]
  },
  {
   "cell_type": "code",
   "execution_count": 10,
   "id": "50f87874-31c4-4c70-975c-c246a39481e3",
   "metadata": {},
   "outputs": [
    {
     "data": {
      "text/html": [
       "<div>\n",
       "<style scoped>\n",
       "    .dataframe tbody tr th:only-of-type {\n",
       "        vertical-align: middle;\n",
       "    }\n",
       "\n",
       "    .dataframe tbody tr th {\n",
       "        vertical-align: top;\n",
       "    }\n",
       "\n",
       "    .dataframe thead th {\n",
       "        text-align: right;\n",
       "    }\n",
       "</style>\n",
       "<table border=\"1\" class=\"dataframe\">\n",
       "  <thead>\n",
       "    <tr style=\"text-align: right;\">\n",
       "      <th></th>\n",
       "      <th>Country or Area</th>\n",
       "      <th>Year</th>\n",
       "      <th>Value</th>\n",
       "    </tr>\n",
       "  </thead>\n",
       "  <tbody>\n",
       "    <tr>\n",
       "      <th>2</th>\n",
       "      <td>Afghanistan</td>\n",
       "      <td>2021</td>\n",
       "      <td>2144.166570</td>\n",
       "    </tr>\n",
       "    <tr>\n",
       "      <th>26</th>\n",
       "      <td>Africa Eastern and Southern</td>\n",
       "      <td>2021</td>\n",
       "      <td>3934.287267</td>\n",
       "    </tr>\n",
       "    <tr>\n",
       "      <th>60</th>\n",
       "      <td>Africa Western and Central</td>\n",
       "      <td>2021</td>\n",
       "      <td>4698.926894</td>\n",
       "    </tr>\n",
       "    <tr>\n",
       "      <th>94</th>\n",
       "      <td>Albania</td>\n",
       "      <td>2021</td>\n",
       "      <td>16113.136519</td>\n",
       "    </tr>\n",
       "    <tr>\n",
       "      <th>128</th>\n",
       "      <td>Algeria</td>\n",
       "      <td>2021</td>\n",
       "      <td>14496.865470</td>\n",
       "    </tr>\n",
       "    <tr>\n",
       "      <th>...</th>\n",
       "      <td>...</td>\n",
       "      <td>...</td>\n",
       "      <td>...</td>\n",
       "    </tr>\n",
       "    <tr>\n",
       "      <th>8067</th>\n",
       "      <td>Virgin Islands</td>\n",
       "      <td>2021</td>\n",
       "      <td>46893.549699</td>\n",
       "    </tr>\n",
       "    <tr>\n",
       "      <th>8089</th>\n",
       "      <td>West Bank and Gaza</td>\n",
       "      <td>2021</td>\n",
       "      <td>5663.121607</td>\n",
       "    </tr>\n",
       "    <tr>\n",
       "      <th>8119</th>\n",
       "      <td>World</td>\n",
       "      <td>2021</td>\n",
       "      <td>19637.823230</td>\n",
       "    </tr>\n",
       "    <tr>\n",
       "      <th>8153</th>\n",
       "      <td>Zambia</td>\n",
       "      <td>2021</td>\n",
       "      <td>3503.034914</td>\n",
       "    </tr>\n",
       "    <tr>\n",
       "      <th>8187</th>\n",
       "      <td>Zimbabwe</td>\n",
       "      <td>2021</td>\n",
       "      <td>3184.785451</td>\n",
       "    </tr>\n",
       "  </tbody>\n",
       "</table>\n",
       "<p>247 rows × 3 columns</p>\n",
       "</div>"
      ],
      "text/plain": [
       "                  Country or Area  Year         Value\n",
       "2                     Afghanistan  2021   2144.166570\n",
       "26    Africa Eastern and Southern  2021   3934.287267\n",
       "60     Africa Western and Central  2021   4698.926894\n",
       "94                        Albania  2021  16113.136519\n",
       "128                       Algeria  2021  14496.865470\n",
       "...                           ...   ...           ...\n",
       "8067               Virgin Islands  2021  46893.549699\n",
       "8089           West Bank and Gaza  2021   5663.121607\n",
       "8119                        World  2021  19637.823230\n",
       "8153                       Zambia  2021   3503.034914\n",
       "8187                     Zimbabwe  2021   3184.785451\n",
       "\n",
       "[247 rows x 3 columns]"
      ]
     },
     "execution_count": 10,
     "metadata": {},
     "output_type": "execute_result"
    }
   ],
   "source": [
    "gdp_2021= gdp_df[gdp_df['Year'] == 2021]\n",
    "gdp_2021"
   ]
  },
  {
   "cell_type": "markdown",
   "id": "ccb304b0-4ffe-460d-9fbd-1a3709760ab7",
   "metadata": {},
   "source": [
    "### 10. Use .describe() to find the summary statistics for GDP per capita in 2021."
   ]
  },
  {
   "cell_type": "code",
   "execution_count": 11,
   "id": "dba84114-676a-4876-9700-72b2a339e321",
   "metadata": {},
   "outputs": [
    {
     "data": {
      "text/html": [
       "<div>\n",
       "<style scoped>\n",
       "    .dataframe tbody tr th:only-of-type {\n",
       "        vertical-align: middle;\n",
       "    }\n",
       "\n",
       "    .dataframe tbody tr th {\n",
       "        vertical-align: top;\n",
       "    }\n",
       "\n",
       "    .dataframe thead th {\n",
       "        text-align: right;\n",
       "    }\n",
       "</style>\n",
       "<table border=\"1\" class=\"dataframe\">\n",
       "  <thead>\n",
       "    <tr style=\"text-align: right;\">\n",
       "      <th></th>\n",
       "      <th>Year</th>\n",
       "      <th>Value</th>\n",
       "    </tr>\n",
       "  </thead>\n",
       "  <tbody>\n",
       "    <tr>\n",
       "      <th>count</th>\n",
       "      <td>247.0</td>\n",
       "      <td>247.000000</td>\n",
       "    </tr>\n",
       "    <tr>\n",
       "      <th>mean</th>\n",
       "      <td>2021.0</td>\n",
       "      <td>24478.517262</td>\n",
       "    </tr>\n",
       "    <tr>\n",
       "      <th>std</th>\n",
       "      <td>0.0</td>\n",
       "      <td>24601.525764</td>\n",
       "    </tr>\n",
       "    <tr>\n",
       "      <th>min</th>\n",
       "      <td>2021.0</td>\n",
       "      <td>836.665571</td>\n",
       "    </tr>\n",
       "    <tr>\n",
       "      <th>25%</th>\n",
       "      <td>2021.0</td>\n",
       "      <td>5996.532844</td>\n",
       "    </tr>\n",
       "    <tr>\n",
       "      <th>50%</th>\n",
       "      <td>2021.0</td>\n",
       "      <td>15900.976581</td>\n",
       "    </tr>\n",
       "    <tr>\n",
       "      <th>75%</th>\n",
       "      <td>2021.0</td>\n",
       "      <td>37298.776853</td>\n",
       "    </tr>\n",
       "    <tr>\n",
       "      <th>max</th>\n",
       "      <td>2021.0</td>\n",
       "      <td>135379.291201</td>\n",
       "    </tr>\n",
       "  </tbody>\n",
       "</table>\n",
       "</div>"
      ],
      "text/plain": [
       "         Year          Value\n",
       "count   247.0     247.000000\n",
       "mean   2021.0   24478.517262\n",
       "std       0.0   24601.525764\n",
       "min    2021.0     836.665571\n",
       "25%    2021.0    5996.532844\n",
       "50%    2021.0   15900.976581\n",
       "75%    2021.0   37298.776853\n",
       "max    2021.0  135379.291201"
      ]
     },
     "execution_count": 11,
     "metadata": {},
     "output_type": "execute_result"
    }
   ],
   "source": [
    "gdp_2021.describe()"
   ]
  },
  {
   "cell_type": "markdown",
   "id": "ed05b0e2-ae96-4f08-a134-5decae470bef",
   "metadata": {},
   "source": [
    "### 11. Create a histogram of GDP Per Capita numbers for 2021 (you may wish to adjust the number of bins for your histogram). How would you describe the shape of the distribution?"
   ]
  },
  {
   "cell_type": "code",
   "execution_count": 12,
   "id": "ab2bdee6-56c1-46cf-856b-8b3779a671e8",
   "metadata": {},
   "outputs": [
    {
     "data": {
      "image/png": "[encoded data removed]",
      "text/plain": [
       "<Figure size 640x480 with 1 Axes>"
      ]
     },
     "metadata": {},
     "output_type": "display_data"
    }
   ],
   "source": [
    "plt.hist(gdp_2021['Value'], bins=20);\n",
    "plt.title(\"GDP per capita for 2021\"); "
   ]
  },
  {
   "cell_type": "markdown",
   "id": "49ec2b28-f90c-42a0-abd8-8882e104d0af",
   "metadata": {},
   "source": [
    "**response:** The histogram of GDP per capita for 2021 has a right skew, since there are some extreme values towards the right end of the x-axis"
   ]
  },
  {
   "cell_type": "markdown",
   "id": "7ec658c3-5919-464e-ac51-f4b6def576d2",
   "metadata": {},
   "source": [
    "### 12. Find the top 5 counties and bottom 5 countries by GDP per capita in 2021."
   ]
  },
  {
   "cell_type": "code",
   "execution_count": 13,
   "id": "794a4594-e637-4905-8e7d-cbbf603a4477",
   "metadata": {},
   "outputs": [
    {
     "name": "stdout",
     "output_type": "stream",
     "text": [
      "The top five countries by GDP are: \n",
      " ['Luxembourg' 'Singapore' 'Ireland' 'Qatar' 'Bermuda']\n"
     ]
    },
    {
     "data": {
      "text/html": [
       "<div>\n",
       "<style scoped>\n",
       "    .dataframe tbody tr th:only-of-type {\n",
       "        vertical-align: middle;\n",
       "    }\n",
       "\n",
       "    .dataframe tbody tr th {\n",
       "        vertical-align: top;\n",
       "    }\n",
       "\n",
       "    .dataframe thead th {\n",
       "        text-align: right;\n",
       "    }\n",
       "</style>\n",
       "<table border=\"1\" class=\"dataframe\">\n",
       "  <thead>\n",
       "    <tr style=\"text-align: right;\">\n",
       "      <th></th>\n",
       "      <th>Country or Area</th>\n",
       "      <th>Year</th>\n",
       "      <th>Value</th>\n",
       "    </tr>\n",
       "  </thead>\n",
       "  <tbody>\n",
       "    <tr>\n",
       "      <th>4425</th>\n",
       "      <td>Luxembourg</td>\n",
       "      <td>2021</td>\n",
       "      <td>135379.291201</td>\n",
       "    </tr>\n",
       "    <tr>\n",
       "      <th>6513</th>\n",
       "      <td>Singapore</td>\n",
       "      <td>2021</td>\n",
       "      <td>131864.092336</td>\n",
       "    </tr>\n",
       "    <tr>\n",
       "      <th>3492</th>\n",
       "      <td>Ireland</td>\n",
       "      <td>2021</td>\n",
       "      <td>118594.746862</td>\n",
       "    </tr>\n",
       "    <tr>\n",
       "      <th>6118</th>\n",
       "      <td>Qatar</td>\n",
       "      <td>2021</td>\n",
       "      <td>116832.570290</td>\n",
       "    </tr>\n",
       "    <tr>\n",
       "      <th>740</th>\n",
       "      <td>Bermuda</td>\n",
       "      <td>2021</td>\n",
       "      <td>92276.234605</td>\n",
       "    </tr>\n",
       "  </tbody>\n",
       "</table>\n",
       "</div>"
      ],
      "text/plain": [
       "     Country or Area  Year          Value\n",
       "4425      Luxembourg  2021  135379.291201\n",
       "6513       Singapore  2021  131864.092336\n",
       "3492         Ireland  2021  118594.746862\n",
       "6118           Qatar  2021  116832.570290\n",
       "740          Bermuda  2021   92276.234605"
      ]
     },
     "execution_count": 13,
     "metadata": {},
     "output_type": "execute_result"
    }
   ],
   "source": [
    "#Sort the 2021 dataframe by value \n",
    "gdp_2021_sorted= gdp_2021.sort_values(by='Value', ascending=False)\n",
    "\n",
    "top_five= gdp_2021_sorted.iloc[:5]\n",
    "print(\"The top five countries by GDP are: \\n\", top_five['Country or Area'].values)\n",
    "top_five"
   ]
  },
  {
   "cell_type": "code",
   "execution_count": 14,
   "id": "02b7e5c7-039f-4854-a7fb-351d838b8f0d",
   "metadata": {},
   "outputs": [
    {
     "name": "stdout",
     "output_type": "stream",
     "text": [
      "The bottom five countries by GDP are: \n",
      " ['Mozambique' 'Somalia' 'Dem. Rep. Congo' 'Central African Republic'\n",
      " 'Burundi']\n"
     ]
    },
    {
     "data": {
      "text/html": [
       "<div>\n",
       "<style scoped>\n",
       "    .dataframe tbody tr th:only-of-type {\n",
       "        vertical-align: middle;\n",
       "    }\n",
       "\n",
       "    .dataframe tbody tr th {\n",
       "        vertical-align: top;\n",
       "    }\n",
       "\n",
       "    .dataframe thead th {\n",
       "        text-align: right;\n",
       "    }\n",
       "</style>\n",
       "<table border=\"1\" class=\"dataframe\">\n",
       "  <thead>\n",
       "    <tr style=\"text-align: right;\">\n",
       "      <th></th>\n",
       "      <th>Country or Area</th>\n",
       "      <th>Year</th>\n",
       "      <th>Value</th>\n",
       "    </tr>\n",
       "  </thead>\n",
       "  <tbody>\n",
       "    <tr>\n",
       "      <th>5132</th>\n",
       "      <td>Mozambique</td>\n",
       "      <td>2021</td>\n",
       "      <td>1457.235409</td>\n",
       "    </tr>\n",
       "    <tr>\n",
       "      <th>6698</th>\n",
       "      <td>Somalia</td>\n",
       "      <td>2021</td>\n",
       "      <td>1392.464262</td>\n",
       "    </tr>\n",
       "    <tr>\n",
       "      <th>1733</th>\n",
       "      <td>Dem. Rep. Congo</td>\n",
       "      <td>2021</td>\n",
       "      <td>1313.618218</td>\n",
       "    </tr>\n",
       "    <tr>\n",
       "      <th>1301</th>\n",
       "      <td>Central African Republic</td>\n",
       "      <td>2021</td>\n",
       "      <td>1128.552380</td>\n",
       "    </tr>\n",
       "    <tr>\n",
       "      <th>1045</th>\n",
       "      <td>Burundi</td>\n",
       "      <td>2021</td>\n",
       "      <td>836.665571</td>\n",
       "    </tr>\n",
       "  </tbody>\n",
       "</table>\n",
       "</div>"
      ],
      "text/plain": [
       "               Country or Area  Year        Value\n",
       "5132                Mozambique  2021  1457.235409\n",
       "6698                   Somalia  2021  1392.464262\n",
       "1733           Dem. Rep. Congo  2021  1313.618218\n",
       "1301  Central African Republic  2021  1128.552380\n",
       "1045                   Burundi  2021   836.665571"
      ]
     },
     "execution_count": 14,
     "metadata": {},
     "output_type": "execute_result"
    }
   ],
   "source": [
    "bottom_five= gdp_2021_sorted.iloc[-5:]\n",
    "print(\"The bottom five countries by GDP are: \\n\", bottom_five['Country or Area'].values)\n",
    "bottom_five"
   ]
  },
  {
   "cell_type": "markdown",
   "id": "2be37be9-323e-4bb9-aee0-218d5977705f",
   "metadata": {},
   "source": [
    "## 13. Now, return to the full dataset, gdp_df. Pivot the data for 1990 and 2021 (using the pandas .pivot_table() method or another method) so that each row corresponds to a country, each column corresponds to a year, and the values in the table give the GDP_Per_Capita amount. Drop any rows that are missing values for either 1990 or 2021. Save the result to a dataframe named gdp_pivoted."
   ]
  },
  {
   "cell_type": "code",
   "execution_count": 15,
   "id": "94abc85e-ee15-41d6-b6fb-264ba0288004",
   "metadata": {},
   "outputs": [
    {
     "data": {
      "text/html": [
       "<div>\n",
       "<style scoped>\n",
       "    .dataframe tbody tr th:only-of-type {\n",
       "        vertical-align: middle;\n",
       "    }\n",
       "\n",
       "    .dataframe tbody tr th {\n",
       "        vertical-align: top;\n",
       "    }\n",
       "\n",
       "    .dataframe thead th {\n",
       "        text-align: right;\n",
       "    }\n",
       "</style>\n",
       "<table border=\"1\" class=\"dataframe\">\n",
       "  <thead>\n",
       "    <tr style=\"text-align: right;\">\n",
       "      <th>Year</th>\n",
       "      <th>1990</th>\n",
       "      <th>2021</th>\n",
       "    </tr>\n",
       "    <tr>\n",
       "      <th>Country or Area</th>\n",
       "      <th></th>\n",
       "      <th></th>\n",
       "    </tr>\n",
       "  </thead>\n",
       "  <tbody>\n",
       "    <tr>\n",
       "      <th>Africa Eastern and Southern</th>\n",
       "      <td>3386.854480</td>\n",
       "      <td>3934.287267</td>\n",
       "    </tr>\n",
       "    <tr>\n",
       "      <th>Africa Western and Central</th>\n",
       "      <td>3299.401375</td>\n",
       "      <td>4698.926894</td>\n",
       "    </tr>\n",
       "    <tr>\n",
       "      <th>Albania</th>\n",
       "      <td>5327.747458</td>\n",
       "      <td>16113.136519</td>\n",
       "    </tr>\n",
       "    <tr>\n",
       "      <th>Algeria</th>\n",
       "      <td>11728.545729</td>\n",
       "      <td>14496.865470</td>\n",
       "    </tr>\n",
       "    <tr>\n",
       "      <th>Andorra</th>\n",
       "      <td>50036.300776</td>\n",
       "      <td>59332.202910</td>\n",
       "    </tr>\n",
       "    <tr>\n",
       "      <th>...</th>\n",
       "      <td>...</td>\n",
       "      <td>...</td>\n",
       "    </tr>\n",
       "    <tr>\n",
       "      <th>Vanuatu</th>\n",
       "      <td>3101.680551</td>\n",
       "      <td>3135.836649</td>\n",
       "    </tr>\n",
       "    <tr>\n",
       "      <th>Viet Nam</th>\n",
       "      <td>2467.964601</td>\n",
       "      <td>12048.901994</td>\n",
       "    </tr>\n",
       "    <tr>\n",
       "      <th>World</th>\n",
       "      <td>11207.386344</td>\n",
       "      <td>19637.823230</td>\n",
       "    </tr>\n",
       "    <tr>\n",
       "      <th>Zambia</th>\n",
       "      <td>2425.111287</td>\n",
       "      <td>3503.034914</td>\n",
       "    </tr>\n",
       "    <tr>\n",
       "      <th>Zimbabwe</th>\n",
       "      <td>4013.299059</td>\n",
       "      <td>3184.785451</td>\n",
       "    </tr>\n",
       "  </tbody>\n",
       "</table>\n",
       "<p>233 rows × 2 columns</p>\n",
       "</div>"
      ],
      "text/plain": [
       "Year                                 1990          2021\n",
       "Country or Area                                        \n",
       "Africa Eastern and Southern   3386.854480   3934.287267\n",
       "Africa Western and Central    3299.401375   4698.926894\n",
       "Albania                       5327.747458  16113.136519\n",
       "Algeria                      11728.545729  14496.865470\n",
       "Andorra                      50036.300776  59332.202910\n",
       "...                                   ...           ...\n",
       "Vanuatu                       3101.680551   3135.836649\n",
       "Viet Nam                      2467.964601  12048.901994\n",
       "World                        11207.386344  19637.823230\n",
       "Zambia                        2425.111287   3503.034914\n",
       "Zimbabwe                      4013.299059   3184.785451\n",
       "\n",
       "[233 rows x 2 columns]"
      ]
     },
     "execution_count": 15,
     "metadata": {},
     "output_type": "execute_result"
    }
   ],
   "source": [
    "gdp_df_filter= gdp_df[(gdp_df['Year'] == 1990) | (gdp_df['Year'] == 2021)]\n",
    "gdp_pivoted= gdp_df_filter.pivot_table(\n",
    "    values=\"Value\", \n",
    "    index=\"Country or Area\", \n",
    "    columns=\"Year\"\n",
    ").dropna()\n",
    "\n",
    "gdp_pivoted"
   ]
  },
  {
   "cell_type": "code",
   "execution_count": 16,
   "id": "b8e171c0-17ac-451b-ae42-7a5160977264",
   "metadata": {},
   "outputs": [
    {
     "data": {
      "text/plain": [
       "Index([1990, 2021], dtype='int64', name='Year')"
      ]
     },
     "execution_count": 16,
     "metadata": {},
     "output_type": "execute_result"
    }
   ],
   "source": [
    "gdp_pivoted.columns"
   ]
  },
  {
   "cell_type": "markdown",
   "id": "f999fab4-0d5a-4f8c-8090-151fbb292daf",
   "metadata": {},
   "source": [
    "### 14. Create a new column in gdp_pivoted named Percent_Change. This column should contain the percent change in GDP_Per_Capita from 1990 to 2021. Hint: Percent change is calculated as 100*(New Value - Old Value) / Old Value."
   ]
  },
  {
   "cell_type": "code",
   "execution_count": 17,
   "id": "9201933d-e934-4d82-a313-c24bcb55a548",
   "metadata": {},
   "outputs": [
    {
     "data": {
      "text/html": [
       "<div>\n",
       "<style scoped>\n",
       "    .dataframe tbody tr th:only-of-type {\n",
       "        vertical-align: middle;\n",
       "    }\n",
       "\n",
       "    .dataframe tbody tr th {\n",
       "        vertical-align: top;\n",
       "    }\n",
       "\n",
       "    .dataframe thead th {\n",
       "        text-align: right;\n",
       "    }\n",
       "</style>\n",
       "<table border=\"1\" class=\"dataframe\">\n",
       "  <thead>\n",
       "    <tr style=\"text-align: right;\">\n",
       "      <th>Year</th>\n",
       "      <th>1990</th>\n",
       "      <th>2021</th>\n",
       "      <th>Percent_Change</th>\n",
       "    </tr>\n",
       "    <tr>\n",
       "      <th>Country or Area</th>\n",
       "      <th></th>\n",
       "      <th></th>\n",
       "      <th></th>\n",
       "    </tr>\n",
       "  </thead>\n",
       "  <tbody>\n",
       "    <tr>\n",
       "      <th>Africa Eastern and Southern</th>\n",
       "      <td>3386.854480</td>\n",
       "      <td>3934.287267</td>\n",
       "      <td>16.163458</td>\n",
       "    </tr>\n",
       "    <tr>\n",
       "      <th>Africa Western and Central</th>\n",
       "      <td>3299.401375</td>\n",
       "      <td>4698.926894</td>\n",
       "      <td>42.417559</td>\n",
       "    </tr>\n",
       "    <tr>\n",
       "      <th>Albania</th>\n",
       "      <td>5327.747458</td>\n",
       "      <td>16113.136519</td>\n",
       "      <td>202.438069</td>\n",
       "    </tr>\n",
       "    <tr>\n",
       "      <th>Algeria</th>\n",
       "      <td>11728.545729</td>\n",
       "      <td>14496.865470</td>\n",
       "      <td>23.603265</td>\n",
       "    </tr>\n",
       "    <tr>\n",
       "      <th>Andorra</th>\n",
       "      <td>50036.300776</td>\n",
       "      <td>59332.202910</td>\n",
       "      <td>18.578316</td>\n",
       "    </tr>\n",
       "    <tr>\n",
       "      <th>...</th>\n",
       "      <td>...</td>\n",
       "      <td>...</td>\n",
       "      <td>...</td>\n",
       "    </tr>\n",
       "    <tr>\n",
       "      <th>Vanuatu</th>\n",
       "      <td>3101.680551</td>\n",
       "      <td>3135.836649</td>\n",
       "      <td>1.101213</td>\n",
       "    </tr>\n",
       "    <tr>\n",
       "      <th>Viet Nam</th>\n",
       "      <td>2467.964601</td>\n",
       "      <td>12048.901994</td>\n",
       "      <td>388.212108</td>\n",
       "    </tr>\n",
       "    <tr>\n",
       "      <th>World</th>\n",
       "      <td>11207.386344</td>\n",
       "      <td>19637.823230</td>\n",
       "      <td>75.222149</td>\n",
       "    </tr>\n",
       "    <tr>\n",
       "      <th>Zambia</th>\n",
       "      <td>2425.111287</td>\n",
       "      <td>3503.034914</td>\n",
       "      <td>44.448419</td>\n",
       "    </tr>\n",
       "    <tr>\n",
       "      <th>Zimbabwe</th>\n",
       "      <td>4013.299059</td>\n",
       "      <td>3184.785451</td>\n",
       "      <td>-20.644203</td>\n",
       "    </tr>\n",
       "  </tbody>\n",
       "</table>\n",
       "<p>233 rows × 3 columns</p>\n",
       "</div>"
      ],
      "text/plain": [
       "Year                                 1990          2021  Percent_Change\n",
       "Country or Area                                                        \n",
       "Africa Eastern and Southern   3386.854480   3934.287267       16.163458\n",
       "Africa Western and Central    3299.401375   4698.926894       42.417559\n",
       "Albania                       5327.747458  16113.136519      202.438069\n",
       "Algeria                      11728.545729  14496.865470       23.603265\n",
       "Andorra                      50036.300776  59332.202910       18.578316\n",
       "...                                   ...           ...             ...\n",
       "Vanuatu                       3101.680551   3135.836649        1.101213\n",
       "Viet Nam                      2467.964601  12048.901994      388.212108\n",
       "World                        11207.386344  19637.823230       75.222149\n",
       "Zambia                        2425.111287   3503.034914       44.448419\n",
       "Zimbabwe                      4013.299059   3184.785451      -20.644203\n",
       "\n",
       "[233 rows x 3 columns]"
      ]
     },
     "execution_count": 17,
     "metadata": {},
     "output_type": "execute_result"
    }
   ],
   "source": [
    "gdp_pivoted['Percent_Change'] = ((gdp_pivoted[2021]-gdp_pivoted[1990])/(gdp_pivoted[1990]))*100\n",
    "gdp_pivoted"
   ]
  },
  {
   "cell_type": "markdown",
   "id": "2f67f8e2-4ef3-4977-94f7-c12851e12324",
   "metadata": {},
   "source": [
    "### 15. How many countries experienced a negative percent change in GDP per capita from 1990 to 2021?"
   ]
  },
  {
   "cell_type": "code",
   "execution_count": 18,
   "id": "19e72854-f240-4154-82e1-79a5b0633837",
   "metadata": {},
   "outputs": [
    {
     "name": "stdout",
     "output_type": "stream",
     "text": [
      "23 had a negative percent change in GDP from 1990-2021\n",
      "23 had a negative percent change in GDP from 1990-2021\n"
     ]
    }
   ],
   "source": [
    "n_countries= gdp_pivoted[gdp_pivoted['Percent_Change'] <0]['Percent_Change'].count()\n",
    "print(f\"{n_countries} had a negative percent change in GDP from 1990-2021\")\n",
    "\n",
    "n_countries= (gdp_pivoted['Percent_Change'] <0).sum()\n",
    "print(f\"{n_countries} had a negative percent change in GDP from 1990-2021\")"
   ]
  },
  {
   "cell_type": "markdown",
   "id": "a968a523-527a-4b58-b77b-36faa5028130",
   "metadata": {},
   "source": [
    "### 16. Which country had the highest % change in GDP per capita? Create a line plot showing this country's GDP per capita for all years from 1990 to 2018. Create another showing the country with the second highest % change in GDP. How do the trends in these countries compare?\n",
    "Bonus: Put both line charts on the same plot."
   ]
  },
  {
   "cell_type": "code",
   "execution_count": 19,
   "id": "c27f3371-9b0f-444a-84a7-a4def65af2c5",
   "metadata": {},
   "outputs": [
    {
     "name": "stdout",
     "output_type": "stream",
     "text": [
      "The country with the highest %change in GDP per capita between 1990 and 2021 is Equatorial Guinea\n",
      "The country with the second highest %change in GDP per capita between 1990 and 2021 is China\n"
     ]
    },
    {
     "data": {
      "image/png": "[encoded data removed]",
      "text/plain": [
       "<Figure size 640x480 with 1 Axes>"
      ]
     },
     "metadata": {},
     "output_type": "display_data"
    }
   ],
   "source": [
    "highest_gdp_ctry= gdp_pivoted['Percent_Change'].nlargest(1).index[0]\n",
    "print(f'The country with the highest %change in GDP per capita between 1990 and 2021 is {highest_gdp_ctry}')\n",
    "\n",
    "#Pull out all dataset for this country \n",
    "highest_gdp_ctry\n",
    "\n",
    "#Create a graph with both top 2 countries in the same lineplot, by plotting a two-column dataframe \n",
    "\n",
    "sec_highest_gdp_ctry= gdp_pivoted['Percent_Change'].nlargest(2).index[1]\n",
    "print(f'The country with the second highest %change in GDP per capita between 1990 and 2021 is {sec_highest_gdp_ctry}')\n",
    "\n",
    "#pull out only two country data from original datagframe \n",
    "gdp_highest_pcgdp_2= gdp_df[(gdp_df['Country or Area'] == highest_gdp_ctry) | (gdp_df['Country or Area'] == sec_highest_gdp_ctry)]\n",
    "gdp_highest_pcgdp_2\n",
    "#create graph with both lines\n",
    "forplot= gdp_highest_pcgdp_2[(gdp_highest_pcgdp_2['Year'] == 1990) | (gdp_highest_pcgdp_2['Year'] <= 2018)]\n",
    "forplot= forplot.set_index('Year')\n",
    "#filter and graph each plot\n",
    "\n",
    "###\n",
    "#creating a plot with both country information \n",
    "##\n",
    "\n",
    "#x value- get all year info as a list\n",
    "year_list= sorted(set(forplot.index)) \n",
    "#y value 1 = get all info for the specific country 1\n",
    "top_c= forplot[forplot['Country or Area'] == highest_gdp_ctry]\n",
    "\n",
    "#y value 2 = get all info for the specific country 1\n",
    "top_2c= forplot[forplot['Country or Area'] == sec_highest_gdp_ctry]\n",
    "\n",
    "#plot both lines together\n",
    "plt.plot(top_c.index, top_c['Value'], label=f'{highest_gdp_ctry}');\n",
    "plt.plot(top_2c.index, top_2c['Value'], label=f'{sec_highest_gdp_ctry}');\n",
    "plt.ylabel('GDP per capita')\n",
    "plt.title(f'GDP per capita from 1990-2018')\n",
    "plt.legend();\n",
    "plt.show()"
   ]
  },
  {
   "cell_type": "markdown",
   "id": "b48c97e7-a5ff-4eaa-b287-8ae55b16e40c",
   "metadata": {},
   "source": [
    "## 17. Read in continents.csv contained in the data folder into a new dataframe called continents. We will be using this dataframe to add a new column to our dataset."
   ]
  },
  {
   "cell_type": "code",
   "execution_count": 20,
   "id": "ffa81e39-4598-4462-b9d2-83b8f3c3dfba",
   "metadata": {},
   "outputs": [
    {
     "data": {
      "text/html": [
       "<div>\n",
       "<style scoped>\n",
       "    .dataframe tbody tr th:only-of-type {\n",
       "        vertical-align: middle;\n",
       "    }\n",
       "\n",
       "    .dataframe tbody tr th {\n",
       "        vertical-align: top;\n",
       "    }\n",
       "\n",
       "    .dataframe thead th {\n",
       "        text-align: right;\n",
       "    }\n",
       "</style>\n",
       "<table border=\"1\" class=\"dataframe\">\n",
       "  <thead>\n",
       "    <tr style=\"text-align: right;\">\n",
       "      <th></th>\n",
       "      <th>Continent</th>\n",
       "      <th>Country</th>\n",
       "    </tr>\n",
       "  </thead>\n",
       "  <tbody>\n",
       "    <tr>\n",
       "      <th>0</th>\n",
       "      <td>Asia</td>\n",
       "      <td>Afghanistan</td>\n",
       "    </tr>\n",
       "    <tr>\n",
       "      <th>1</th>\n",
       "      <td>Europe</td>\n",
       "      <td>Albania</td>\n",
       "    </tr>\n",
       "    <tr>\n",
       "      <th>2</th>\n",
       "      <td>Africa</td>\n",
       "      <td>Algeria</td>\n",
       "    </tr>\n",
       "    <tr>\n",
       "      <th>3</th>\n",
       "      <td>Europe</td>\n",
       "      <td>Andorra</td>\n",
       "    </tr>\n",
       "    <tr>\n",
       "      <th>4</th>\n",
       "      <td>Africa</td>\n",
       "      <td>Angola</td>\n",
       "    </tr>\n",
       "    <tr>\n",
       "      <th>...</th>\n",
       "      <td>...</td>\n",
       "      <td>...</td>\n",
       "    </tr>\n",
       "    <tr>\n",
       "      <th>211</th>\n",
       "      <td>Asia</td>\n",
       "      <td>Vietnam</td>\n",
       "    </tr>\n",
       "    <tr>\n",
       "      <th>212</th>\n",
       "      <td>Asia</td>\n",
       "      <td>West Bank and Gaza</td>\n",
       "    </tr>\n",
       "    <tr>\n",
       "      <th>213</th>\n",
       "      <td>Asia</td>\n",
       "      <td>Yemen</td>\n",
       "    </tr>\n",
       "    <tr>\n",
       "      <th>214</th>\n",
       "      <td>Africa</td>\n",
       "      <td>Zambia</td>\n",
       "    </tr>\n",
       "    <tr>\n",
       "      <th>215</th>\n",
       "      <td>Africa</td>\n",
       "      <td>Zimbabwe</td>\n",
       "    </tr>\n",
       "  </tbody>\n",
       "</table>\n",
       "<p>216 rows × 2 columns</p>\n",
       "</div>"
      ],
      "text/plain": [
       "    Continent             Country\n",
       "0        Asia         Afghanistan\n",
       "1      Europe             Albania\n",
       "2      Africa             Algeria\n",
       "3      Europe             Andorra\n",
       "4      Africa              Angola\n",
       "..        ...                 ...\n",
       "211      Asia             Vietnam\n",
       "212      Asia  West Bank and Gaza\n",
       "213      Asia               Yemen\n",
       "214    Africa              Zambia\n",
       "215    Africa            Zimbabwe\n",
       "\n",
       "[216 rows x 2 columns]"
      ]
     },
     "execution_count": 20,
     "metadata": {},
     "output_type": "execute_result"
    }
   ],
   "source": [
    "continents= pd.read_csv('../data/continents.csv')\n",
    "continents"
   ]
  },
  {
   "cell_type": "markdown",
   "id": "7913fdde-760d-4dfd-b74e-d0d6ed8e2ad8",
   "metadata": {},
   "source": [
    "#### 18. Merge gdp_df and continents. Keep only the countries that appear in both data frames. Save the result back to gdp_df."
   ]
  },
  {
   "cell_type": "code",
   "execution_count": 45,
   "id": "092fa355-5d26-4b45-85ac-39ad14cabdf7",
   "metadata": {},
   "outputs": [
    {
     "data": {
      "text/html": [
       "<div>\n",
       "<style scoped>\n",
       "    .dataframe tbody tr th:only-of-type {\n",
       "        vertical-align: middle;\n",
       "    }\n",
       "\n",
       "    .dataframe tbody tr th {\n",
       "        vertical-align: top;\n",
       "    }\n",
       "\n",
       "    .dataframe thead th {\n",
       "        text-align: right;\n",
       "    }\n",
       "</style>\n",
       "<table border=\"1\" class=\"dataframe\">\n",
       "  <thead>\n",
       "    <tr style=\"text-align: right;\">\n",
       "      <th></th>\n",
       "      <th>Country</th>\n",
       "      <th>Year</th>\n",
       "      <th>Value</th>\n",
       "      <th>Continent</th>\n",
       "    </tr>\n",
       "  </thead>\n",
       "  <tbody>\n",
       "    <tr>\n",
       "      <th>0</th>\n",
       "      <td>Afghanistan</td>\n",
       "      <td>2023</td>\n",
       "      <td>1992.424394</td>\n",
       "      <td>Asia</td>\n",
       "    </tr>\n",
       "    <tr>\n",
       "      <th>1</th>\n",
       "      <td>Afghanistan</td>\n",
       "      <td>2022</td>\n",
       "      <td>1981.710168</td>\n",
       "      <td>Asia</td>\n",
       "    </tr>\n",
       "    <tr>\n",
       "      <th>2</th>\n",
       "      <td>Afghanistan</td>\n",
       "      <td>2021</td>\n",
       "      <td>2144.166570</td>\n",
       "      <td>Asia</td>\n",
       "    </tr>\n",
       "    <tr>\n",
       "      <th>3</th>\n",
       "      <td>Afghanistan</td>\n",
       "      <td>2020</td>\n",
       "      <td>2769.685745</td>\n",
       "      <td>Asia</td>\n",
       "    </tr>\n",
       "    <tr>\n",
       "      <th>4</th>\n",
       "      <td>Afghanistan</td>\n",
       "      <td>2019</td>\n",
       "      <td>2927.245144</td>\n",
       "      <td>Asia</td>\n",
       "    </tr>\n",
       "    <tr>\n",
       "      <th>...</th>\n",
       "      <td>...</td>\n",
       "      <td>...</td>\n",
       "      <td>...</td>\n",
       "      <td>...</td>\n",
       "    </tr>\n",
       "    <tr>\n",
       "      <th>6258</th>\n",
       "      <td>Zimbabwe</td>\n",
       "      <td>1994</td>\n",
       "      <td>3965.730986</td>\n",
       "      <td>Africa</td>\n",
       "    </tr>\n",
       "    <tr>\n",
       "      <th>6259</th>\n",
       "      <td>Zimbabwe</td>\n",
       "      <td>1993</td>\n",
       "      <td>3634.750494</td>\n",
       "      <td>Africa</td>\n",
       "    </tr>\n",
       "    <tr>\n",
       "      <th>6260</th>\n",
       "      <td>Zimbabwe</td>\n",
       "      <td>1992</td>\n",
       "      <td>3649.891947</td>\n",
       "      <td>Africa</td>\n",
       "    </tr>\n",
       "    <tr>\n",
       "      <th>6261</th>\n",
       "      <td>Zimbabwe</td>\n",
       "      <td>1991</td>\n",
       "      <td>4126.405247</td>\n",
       "      <td>Africa</td>\n",
       "    </tr>\n",
       "    <tr>\n",
       "      <th>6262</th>\n",
       "      <td>Zimbabwe</td>\n",
       "      <td>1990</td>\n",
       "      <td>4013.299059</td>\n",
       "      <td>Africa</td>\n",
       "    </tr>\n",
       "  </tbody>\n",
       "</table>\n",
       "<p>6263 rows × 4 columns</p>\n",
       "</div>"
      ],
      "text/plain": [
       "          Country  Year        Value Continent\n",
       "0     Afghanistan  2023  1992.424394      Asia\n",
       "1     Afghanistan  2022  1981.710168      Asia\n",
       "2     Afghanistan  2021  2144.166570      Asia\n",
       "3     Afghanistan  2020  2769.685745      Asia\n",
       "4     Afghanistan  2019  2927.245144      Asia\n",
       "...           ...   ...          ...       ...\n",
       "6258     Zimbabwe  1994  3965.730986    Africa\n",
       "6259     Zimbabwe  1993  3634.750494    Africa\n",
       "6260     Zimbabwe  1992  3649.891947    Africa\n",
       "6261     Zimbabwe  1991  4126.405247    Africa\n",
       "6262     Zimbabwe  1990  4013.299059    Africa\n",
       "\n",
       "[6263 rows x 4 columns]"
      ]
     },
     "execution_count": 45,
     "metadata": {},
     "output_type": "execute_result"
    }
   ],
   "source": [
    "gdp_df.columns\n",
    "#gdp_df needs to change column name from 'country or area' to 'country'\n",
    "gdp_df= gdp_df.rename(columns={'Country or Area' : 'Country'})\n",
    "\n",
    "# continents\n",
    "# pd.merge(\n",
    "gdp_df= pd.merge(gdp_df, continents, \n",
    "         how='inner', \n",
    "         validate='many_to_one') #left_on='Country or Area', right_on='Country',\n",
    "\n",
    "#display new dataframe\n",
    "gdp_df"
   ]
  },
  {
   "cell_type": "markdown",
   "id": "8e69aa2b-5c2d-41e0-b3c0-990fc7dcb20e",
   "metadata": {},
   "source": [
    "#### 19. Determine the number of countries per continent. Create a bar chart showing this."
   ]
  },
  {
   "cell_type": "code",
   "execution_count": 44,
   "id": "8934bc18-f405-41c1-87ab-20273f492cd1",
   "metadata": {},
   "outputs": [
    {
     "data": {
      "image/png": "[encoded data removed]",
      "text/plain": [
       "<Figure size 640x480 with 1 Axes>"
      ]
     },
     "metadata": {},
     "output_type": "display_data"
    }
   ],
   "source": [
    "n_ctry_by_cont= continents.groupby('Continent')['Country'].count()\n",
    "n_ctry_by_cont.plot(kind='bar');\n",
    "plt.title('Number of countries per continent')\n",
    "plt.ylabel('Number of Countries')\n",
    "plt.show()"
   ]
  },
  {
   "cell_type": "markdown",
   "id": "2819cd89-dd40-4040-b913-bd53658b43e1",
   "metadata": {},
   "source": [
    "### 20. Create a seaborn boxplot showing GDP per capita in 2021 split out by continent. What do you notice?"
   ]
  },
  {
   "cell_type": "code",
   "execution_count": 52,
   "id": "286e2ad0-179f-4b3c-927c-663f36f6a25c",
   "metadata": {},
   "outputs": [
    {
     "data": {
      "image/png": "[encoded data removed]",
      "text/plain": [
       "<Figure size 640x480 with 1 Axes>"
      ]
     },
     "metadata": {},
     "output_type": "display_data"
    }
   ],
   "source": [
    "gdp_update_2021= gdp_df[gdp_df['Year']== 2021]\n",
    "\n",
    "sns.boxplot(data= gdp_update_2021, x='Continent', y='Value')\n",
    "plt.title('GDP per capita in 2021 by continent')\n",
    "plt.ylabel('2021 GDP per capita')\n",
    "plt.show()"
   ]
  },
  {
   "cell_type": "markdown",
   "id": "4b5e59c6-8cba-4df5-ba24-6b1c55a70a42",
   "metadata": {},
   "source": [
    "## 21. Download the full csv containing Life expectancy at birth, total (years) from https://data.worldbank.org/indicator/SP.DYN.LE00.IN?name_desc=false. Read this data into a DataFrame named life_expectancy. Note: When reading this dataset it, you may encounter an error. Modify your read_csv call to correct this without modifying the original csv file."
   ]
  },
  {
   "cell_type": "code",
   "execution_count": 104,
   "id": "9f687f0e-2ef7-4a39-8925-de25ca97c7cd",
   "metadata": {},
   "outputs": [],
   "source": [
    "life_expectancy=pd.read_csv(r\"..\\data\\API_SP.DYN.LE00.IN_DS2_en_csv_v2_22997.csv\", skiprows=4)\n",
    "life_expectancy.head()\n",
    "life_expectancy= life_expectancy.drop(columns=['Country Code', 'Indicator Name', 'Indicator Code'])"
   ]
  },
  {
   "cell_type": "markdown",
   "id": "a517e500-c098-482c-9a8a-cd48c2dd5272",
   "metadata": {},
   "source": [
    "#### 22. Drop the Country Code, Indicator Name, and Indicator Code columns. Then use .melt() to convert your data from wide to long. That is, instead of having one row per country and multiple colums per year, we want to have multiple rows per country and a single column for year. After melting, rename the columns to Country, Year, and Life_Expectancy."
   ]
  },
  {
   "cell_type": "code",
   "execution_count": 105,
   "id": "4b1009ee-a91f-4119-9a4f-446907791ea5",
   "metadata": {},
   "outputs": [
    {
     "data": {
      "text/html": [
       "<div>\n",
       "<style scoped>\n",
       "    .dataframe tbody tr th:only-of-type {\n",
       "        vertical-align: middle;\n",
       "    }\n",
       "\n",
       "    .dataframe tbody tr th {\n",
       "        vertical-align: top;\n",
       "    }\n",
       "\n",
       "    .dataframe thead th {\n",
       "        text-align: right;\n",
       "    }\n",
       "</style>\n",
       "<table border=\"1\" class=\"dataframe\">\n",
       "  <thead>\n",
       "    <tr style=\"text-align: right;\">\n",
       "      <th></th>\n",
       "      <th>Country</th>\n",
       "      <th>Year</th>\n",
       "      <th>Life_Expectancy</th>\n",
       "    </tr>\n",
       "  </thead>\n",
       "  <tbody>\n",
       "    <tr>\n",
       "      <th>0</th>\n",
       "      <td>Aruba</td>\n",
       "      <td>1960</td>\n",
       "      <td>64.049000</td>\n",
       "    </tr>\n",
       "    <tr>\n",
       "      <th>1</th>\n",
       "      <td>Africa Eastern and Southern</td>\n",
       "      <td>1960</td>\n",
       "      <td>44.169658</td>\n",
       "    </tr>\n",
       "    <tr>\n",
       "      <th>2</th>\n",
       "      <td>Afghanistan</td>\n",
       "      <td>1960</td>\n",
       "      <td>32.799000</td>\n",
       "    </tr>\n",
       "    <tr>\n",
       "      <th>3</th>\n",
       "      <td>Africa Western and Central</td>\n",
       "      <td>1960</td>\n",
       "      <td>37.779636</td>\n",
       "    </tr>\n",
       "    <tr>\n",
       "      <th>4</th>\n",
       "      <td>Angola</td>\n",
       "      <td>1960</td>\n",
       "      <td>37.933000</td>\n",
       "    </tr>\n",
       "    <tr>\n",
       "      <th>...</th>\n",
       "      <td>...</td>\n",
       "      <td>...</td>\n",
       "      <td>...</td>\n",
       "    </tr>\n",
       "    <tr>\n",
       "      <th>17019</th>\n",
       "      <td>Kosovo</td>\n",
       "      <td>2023</td>\n",
       "      <td>78.033000</td>\n",
       "    </tr>\n",
       "    <tr>\n",
       "      <th>17020</th>\n",
       "      <td>Yemen, Rep.</td>\n",
       "      <td>2023</td>\n",
       "      <td>69.295000</td>\n",
       "    </tr>\n",
       "    <tr>\n",
       "      <th>17021</th>\n",
       "      <td>South Africa</td>\n",
       "      <td>2023</td>\n",
       "      <td>66.139000</td>\n",
       "    </tr>\n",
       "    <tr>\n",
       "      <th>17022</th>\n",
       "      <td>Zambia</td>\n",
       "      <td>2023</td>\n",
       "      <td>66.349000</td>\n",
       "    </tr>\n",
       "    <tr>\n",
       "      <th>17023</th>\n",
       "      <td>Zimbabwe</td>\n",
       "      <td>2023</td>\n",
       "      <td>62.775000</td>\n",
       "    </tr>\n",
       "  </tbody>\n",
       "</table>\n",
       "<p>16926 rows × 3 columns</p>\n",
       "</div>"
      ],
      "text/plain": [
       "                           Country  Year  Life_Expectancy\n",
       "0                            Aruba  1960        64.049000\n",
       "1      Africa Eastern and Southern  1960        44.169658\n",
       "2                      Afghanistan  1960        32.799000\n",
       "3       Africa Western and Central  1960        37.779636\n",
       "4                           Angola  1960        37.933000\n",
       "...                            ...   ...              ...\n",
       "17019                       Kosovo  2023        78.033000\n",
       "17020                  Yemen, Rep.  2023        69.295000\n",
       "17021                 South Africa  2023        66.139000\n",
       "17022                       Zambia  2023        66.349000\n",
       "17023                     Zimbabwe  2023        62.775000\n",
       "\n",
       "[16926 rows x 3 columns]"
      ]
     },
     "execution_count": 105,
     "metadata": {},
     "output_type": "execute_result"
    }
   ],
   "source": [
    "life_expectancy= life_expectancy.melt('Country Name')\n",
    "life_expectancy.columns=['Country', 'Year', 'Life_Expectancy']\n",
    "life_expectancy= life_expectancy.dropna() #clean up the dataframe \n",
    "life_expectancy"
   ]
  },
  {
   "cell_type": "markdown",
   "id": "c0d96408-0633-432f-9ddb-bfecd0b13abe",
   "metadata": {},
   "source": [
    "#### 23. What was the first country with a life expectancy to exceed 80?"
   ]
  },
  {
   "cell_type": "code",
   "execution_count": null,
   "id": "b592c414-d284-48c3-9baa-0ad9a86e465b",
   "metadata": {},
   "outputs": [],
   "source": []
  },
  {
   "cell_type": "markdown",
   "id": "82df60b7-22f1-4e52-9ce2-f608e93dd373",
   "metadata": {},
   "source": [
    "--------------"
   ]
  },
  {
   "cell_type": "markdown",
   "id": "9b359eb4-f218-4684-a4d2-8dc474e9461a",
   "metadata": {},
   "source": []
  },
  {
   "cell_type": "markdown",
   "id": "9614ba63-2c17-4d27-9171-4beb452e1bb5",
   "metadata": {},
   "source": [
    "24. Merge gdp_df and life_expectancy, keeping all countries and years that appear in both DataFrames. Save the result to a new DataFrame named gdp_le. If you get any errors in doing this, read them carefully and correct them. Look at the first five rows of your new data frame to confirm it merged correctly. Also, check the last five rows to make sure the data is clean and as expected.\n",
    "\n",
    "25. Create a new DataFrame, named gdp_le_2021 by extracting data for the year 2021 from gdp_le. How many countries have a life expectancy of at least 80 in 2021?\n",
    "\n",
    "26. Find the countries that had the top 3 largest GDP per capita figures for 2021. Create a seaborn FacetGrid showing the change in life expectancy over time for these three countries. Each individual figure in the facet grid will represent a single country.\n",
    "\n",
    "27. Create a scatter plot of Life Expectancy vs GDP per Capita for the year 2021. What do you notice?\n",
    "\n",
    "28. Find the correlation between Life Expectancy and GDP per Capita for the year 2021. What is the meaning of this number?\n",
    "\n",
    "29. Add a column to gdp_le_2021 and calculate the logarithm of GDP per capita. Find the correlation between the log of GDP per capita and life expectancy. How does this compare to the calculation in the previous part? Look at a scatter plot to see if the result of this calculation makes sense.\n",
    "\n",
    "Bonus: Solo Exploration:\n",
    "Choose and download another data set from the UN data http://data.un.org/Explorer.aspx to explore. You may want to combine your new dataset with one or both of the datasets that you already worked with. Report any interesting correlations or trends that you find.\n",
    "If time allows, check out the plotly library to add additional interativity to your plots. https://plotly.com/python/plotly-express/."
   ]
  },
  {
   "cell_type": "markdown",
   "id": "00efc64b-98e9-4a00-a1bf-f6d022de64c9",
   "metadata": {},
   "source": []
  }
 ],
 "metadata": {
  "kernelspec": {
   "display_name": "Python 3 (ipykernel)",
   "language": "python",
   "name": "python3"
  },
  "language_info": {
   "codemirror_mode": {
    "name": "ipython",
    "version": 3
   },
   "file_extension": ".py",
   "mimetype": "text/x-python",
   "name": "python",
   "nbconvert_exporter": "python",
   "pygments_lexer": "ipython3",
   "version": "3.12.4"
  }
 },
 "nbformat": 4,
 "nbformat_minor": 5
}
