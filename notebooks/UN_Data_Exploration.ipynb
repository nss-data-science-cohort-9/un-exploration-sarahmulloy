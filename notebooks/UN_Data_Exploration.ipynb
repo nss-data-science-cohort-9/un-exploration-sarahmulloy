{
 "cells": [
  {
   "cell_type": "markdown",
   "id": "b2e51f21-15e8-49e3-8edd-ecb199992f32",
   "metadata": {},
   "source": [
    "# UN Exploration exercise for NSS DataScience \n",
    "Exercise github link: https://github.com/nss-data-science-cohort-9/un-exploration-sarahmulloy"
   ]
  },
  {
   "cell_type": "code",
   "execution_count": 1,
   "id": "8954e0eb-9969-4472-8865-238cad743642",
   "metadata": {},
   "outputs": [],
   "source": [
    "import pandas as pd\n",
    "import numpy as np\n",
    "import matplotlib.pyplot as plt\n",
    "import seaborn as sns"
   ]
  },
  {
   "cell_type": "markdown",
   "id": "ed5ca40b-6d0c-4dc0-bf30-327d66b324de",
   "metadata": {},
   "source": [
    "### 4. Using the pandas read_csv() function, read the GDP dataset into your notebook as a DataFrame called gdp_df. After reading it in, inspect the first 10 rows and then inspect the last 10 rows."
   ]
  },
  {
   "cell_type": "code",
   "execution_count": 2,
   "id": "f51cdf7d-59ae-40a9-824e-b5d8d35a8290",
   "metadata": {},
   "outputs": [
    {
     "data": {
      "text/html": [
       "<div>\n",
       "<style scoped>\n",
       "    .dataframe tbody tr th:only-of-type {\n",
       "        vertical-align: middle;\n",
       "    }\n",
       "\n",
       "    .dataframe tbody tr th {\n",
       "        vertical-align: top;\n",
       "    }\n",
       "\n",
       "    .dataframe thead th {\n",
       "        text-align: right;\n",
       "    }\n",
       "</style>\n",
       "<table border=\"1\" class=\"dataframe\">\n",
       "  <thead>\n",
       "    <tr style=\"text-align: right;\">\n",
       "      <th></th>\n",
       "      <th>Country or Area</th>\n",
       "      <th>Year</th>\n",
       "      <th>Value</th>\n",
       "      <th>Value Footnotes</th>\n",
       "    </tr>\n",
       "  </thead>\n",
       "  <tbody>\n",
       "    <tr>\n",
       "      <th>0</th>\n",
       "      <td>Afghanistan</td>\n",
       "      <td>2023</td>\n",
       "      <td>1992.424394</td>\n",
       "      <td>NaN</td>\n",
       "    </tr>\n",
       "    <tr>\n",
       "      <th>1</th>\n",
       "      <td>Afghanistan</td>\n",
       "      <td>2022</td>\n",
       "      <td>1981.710168</td>\n",
       "      <td>NaN</td>\n",
       "    </tr>\n",
       "    <tr>\n",
       "      <th>2</th>\n",
       "      <td>Afghanistan</td>\n",
       "      <td>2021</td>\n",
       "      <td>2144.166570</td>\n",
       "      <td>NaN</td>\n",
       "    </tr>\n",
       "    <tr>\n",
       "      <th>3</th>\n",
       "      <td>Afghanistan</td>\n",
       "      <td>2020</td>\n",
       "      <td>2769.685745</td>\n",
       "      <td>NaN</td>\n",
       "    </tr>\n",
       "    <tr>\n",
       "      <th>4</th>\n",
       "      <td>Afghanistan</td>\n",
       "      <td>2019</td>\n",
       "      <td>2927.245144</td>\n",
       "      <td>NaN</td>\n",
       "    </tr>\n",
       "    <tr>\n",
       "      <th>5</th>\n",
       "      <td>Afghanistan</td>\n",
       "      <td>2018</td>\n",
       "      <td>2902.392113</td>\n",
       "      <td>NaN</td>\n",
       "    </tr>\n",
       "    <tr>\n",
       "      <th>6</th>\n",
       "      <td>Afghanistan</td>\n",
       "      <td>2017</td>\n",
       "      <td>2952.998916</td>\n",
       "      <td>NaN</td>\n",
       "    </tr>\n",
       "    <tr>\n",
       "      <th>7</th>\n",
       "      <td>Afghanistan</td>\n",
       "      <td>2016</td>\n",
       "      <td>2958.785399</td>\n",
       "      <td>NaN</td>\n",
       "    </tr>\n",
       "    <tr>\n",
       "      <th>8</th>\n",
       "      <td>Afghanistan</td>\n",
       "      <td>2015</td>\n",
       "      <td>2967.692067</td>\n",
       "      <td>NaN</td>\n",
       "    </tr>\n",
       "    <tr>\n",
       "      <th>9</th>\n",
       "      <td>Afghanistan</td>\n",
       "      <td>2014</td>\n",
       "      <td>3017.942544</td>\n",
       "      <td>NaN</td>\n",
       "    </tr>\n",
       "  </tbody>\n",
       "</table>\n",
       "</div>"
      ],
      "text/plain": [
       "  Country or Area  Year        Value  Value Footnotes\n",
       "0     Afghanistan  2023  1992.424394              NaN\n",
       "1     Afghanistan  2022  1981.710168              NaN\n",
       "2     Afghanistan  2021  2144.166570              NaN\n",
       "3     Afghanistan  2020  2769.685745              NaN\n",
       "4     Afghanistan  2019  2927.245144              NaN\n",
       "5     Afghanistan  2018  2902.392113              NaN\n",
       "6     Afghanistan  2017  2952.998916              NaN\n",
       "7     Afghanistan  2016  2958.785399              NaN\n",
       "8     Afghanistan  2015  2967.692067              NaN\n",
       "9     Afghanistan  2014  3017.942544              NaN"
      ]
     },
     "execution_count": 2,
     "metadata": {},
     "output_type": "execute_result"
    }
   ],
   "source": [
    "gdp_df= pd.read_csv('../data/gdp_per_capita.csv.csv')\n",
    "gdp_df.head(10)"
   ]
  },
  {
   "cell_type": "code",
   "execution_count": 3,
   "id": "d7dd931e",
   "metadata": {},
   "outputs": [
    {
     "data": {
      "text/html": [
       "<div>\n",
       "<style scoped>\n",
       "    .dataframe tbody tr th:only-of-type {\n",
       "        vertical-align: middle;\n",
       "    }\n",
       "\n",
       "    .dataframe tbody tr th {\n",
       "        vertical-align: top;\n",
       "    }\n",
       "\n",
       "    .dataframe thead th {\n",
       "        text-align: right;\n",
       "    }\n",
       "</style>\n",
       "<table border=\"1\" class=\"dataframe\">\n",
       "  <thead>\n",
       "    <tr style=\"text-align: right;\">\n",
       "      <th></th>\n",
       "      <th>Country or Area</th>\n",
       "      <th>Year</th>\n",
       "      <th>Value</th>\n",
       "      <th>Value Footnotes</th>\n",
       "    </tr>\n",
       "  </thead>\n",
       "  <tbody>\n",
       "    <tr>\n",
       "      <th>8209</th>\n",
       "      <td>Zimbabwe</td>\n",
       "      <td>1999</td>\n",
       "      <td>4238.195198</td>\n",
       "      <td>NaN</td>\n",
       "    </tr>\n",
       "    <tr>\n",
       "      <th>8210</th>\n",
       "      <td>Zimbabwe</td>\n",
       "      <td>1998</td>\n",
       "      <td>4342.858177</td>\n",
       "      <td>NaN</td>\n",
       "    </tr>\n",
       "    <tr>\n",
       "      <th>8211</th>\n",
       "      <td>Zimbabwe</td>\n",
       "      <td>1997</td>\n",
       "      <td>4304.406272</td>\n",
       "      <td>NaN</td>\n",
       "    </tr>\n",
       "    <tr>\n",
       "      <th>8212</th>\n",
       "      <td>Zimbabwe</td>\n",
       "      <td>1996</td>\n",
       "      <td>4271.479930</td>\n",
       "      <td>NaN</td>\n",
       "    </tr>\n",
       "    <tr>\n",
       "      <th>8213</th>\n",
       "      <td>Zimbabwe</td>\n",
       "      <td>1995</td>\n",
       "      <td>3935.280057</td>\n",
       "      <td>NaN</td>\n",
       "    </tr>\n",
       "    <tr>\n",
       "      <th>8214</th>\n",
       "      <td>Zimbabwe</td>\n",
       "      <td>1994</td>\n",
       "      <td>3965.730986</td>\n",
       "      <td>NaN</td>\n",
       "    </tr>\n",
       "    <tr>\n",
       "      <th>8215</th>\n",
       "      <td>Zimbabwe</td>\n",
       "      <td>1993</td>\n",
       "      <td>3634.750494</td>\n",
       "      <td>NaN</td>\n",
       "    </tr>\n",
       "    <tr>\n",
       "      <th>8216</th>\n",
       "      <td>Zimbabwe</td>\n",
       "      <td>1992</td>\n",
       "      <td>3649.891947</td>\n",
       "      <td>NaN</td>\n",
       "    </tr>\n",
       "    <tr>\n",
       "      <th>8217</th>\n",
       "      <td>Zimbabwe</td>\n",
       "      <td>1991</td>\n",
       "      <td>4126.405247</td>\n",
       "      <td>NaN</td>\n",
       "    </tr>\n",
       "    <tr>\n",
       "      <th>8218</th>\n",
       "      <td>Zimbabwe</td>\n",
       "      <td>1990</td>\n",
       "      <td>4013.299059</td>\n",
       "      <td>NaN</td>\n",
       "    </tr>\n",
       "  </tbody>\n",
       "</table>\n",
       "</div>"
      ],
      "text/plain": [
       "     Country or Area  Year        Value  Value Footnotes\n",
       "8209        Zimbabwe  1999  4238.195198              NaN\n",
       "8210        Zimbabwe  1998  4342.858177              NaN\n",
       "8211        Zimbabwe  1997  4304.406272              NaN\n",
       "8212        Zimbabwe  1996  4271.479930              NaN\n",
       "8213        Zimbabwe  1995  3935.280057              NaN\n",
       "8214        Zimbabwe  1994  3965.730986              NaN\n",
       "8215        Zimbabwe  1993  3634.750494              NaN\n",
       "8216        Zimbabwe  1992  3649.891947              NaN\n",
       "8217        Zimbabwe  1991  4126.405247              NaN\n",
       "8218        Zimbabwe  1990  4013.299059              NaN"
      ]
     },
     "execution_count": 3,
     "metadata": {},
     "output_type": "execute_result"
    }
   ],
   "source": [
    "gdp_df.tail(10)"
   ]
  },
  {
   "cell_type": "code",
   "execution_count": 4,
   "id": "df7ce169-73fe-4940-a760-ffc69dea8b6e",
   "metadata": {},
   "outputs": [
    {
     "data": {
      "text/html": [
       "<div>\n",
       "<style scoped>\n",
       "    .dataframe tbody tr th:only-of-type {\n",
       "        vertical-align: middle;\n",
       "    }\n",
       "\n",
       "    .dataframe tbody tr th {\n",
       "        vertical-align: top;\n",
       "    }\n",
       "\n",
       "    .dataframe thead th {\n",
       "        text-align: right;\n",
       "    }\n",
       "</style>\n",
       "<table border=\"1\" class=\"dataframe\">\n",
       "  <thead>\n",
       "    <tr style=\"text-align: right;\">\n",
       "      <th></th>\n",
       "      <th>Country or Area</th>\n",
       "      <th>Year</th>\n",
       "      <th>Value</th>\n",
       "      <th>Value Footnotes</th>\n",
       "    </tr>\n",
       "  </thead>\n",
       "  <tbody>\n",
       "    <tr>\n",
       "      <th>6679</th>\n",
       "      <td>Solomon Islands</td>\n",
       "      <td>2006</td>\n",
       "      <td>2340.660459</td>\n",
       "      <td>NaN</td>\n",
       "    </tr>\n",
       "    <tr>\n",
       "      <th>5105</th>\n",
       "      <td>Morocco</td>\n",
       "      <td>2014</td>\n",
       "      <td>7951.798340</td>\n",
       "      <td>NaN</td>\n",
       "    </tr>\n",
       "    <tr>\n",
       "      <th>7204</th>\n",
       "      <td>Sweden</td>\n",
       "      <td>1990</td>\n",
       "      <td>40169.094717</td>\n",
       "      <td>NaN</td>\n",
       "    </tr>\n",
       "    <tr>\n",
       "      <th>8018</th>\n",
       "      <td>Vanuatu</td>\n",
       "      <td>2003</td>\n",
       "      <td>2962.031073</td>\n",
       "      <td>NaN</td>\n",
       "    </tr>\n",
       "    <tr>\n",
       "      <th>6952</th>\n",
       "      <td>St. Lucia</td>\n",
       "      <td>2004</td>\n",
       "      <td>19715.660696</td>\n",
       "      <td>NaN</td>\n",
       "    </tr>\n",
       "    <tr>\n",
       "      <th>1506</th>\n",
       "      <td>Comoros</td>\n",
       "      <td>2020</td>\n",
       "      <td>3441.070412</td>\n",
       "      <td>NaN</td>\n",
       "    </tr>\n",
       "    <tr>\n",
       "      <th>481</th>\n",
       "      <td>Azerbaijan</td>\n",
       "      <td>2008</td>\n",
       "      <td>17656.963451</td>\n",
       "      <td>NaN</td>\n",
       "    </tr>\n",
       "    <tr>\n",
       "      <th>5188</th>\n",
       "      <td>Myanmar</td>\n",
       "      <td>1999</td>\n",
       "      <td>1209.016428</td>\n",
       "      <td>NaN</td>\n",
       "    </tr>\n",
       "    <tr>\n",
       "      <th>2047</th>\n",
       "      <td>Ecuador</td>\n",
       "      <td>1990</td>\n",
       "      <td>9093.611803</td>\n",
       "      <td>NaN</td>\n",
       "    </tr>\n",
       "    <tr>\n",
       "      <th>3093</th>\n",
       "      <td>Hong Kong SAR, China</td>\n",
       "      <td>2012</td>\n",
       "      <td>59015.325694</td>\n",
       "      <td>NaN</td>\n",
       "    </tr>\n",
       "  </tbody>\n",
       "</table>\n",
       "</div>"
      ],
      "text/plain": [
       "           Country or Area  Year         Value  Value Footnotes\n",
       "6679       Solomon Islands  2006   2340.660459              NaN\n",
       "5105               Morocco  2014   7951.798340              NaN\n",
       "7204                Sweden  1990  40169.094717              NaN\n",
       "8018               Vanuatu  2003   2962.031073              NaN\n",
       "6952             St. Lucia  2004  19715.660696              NaN\n",
       "1506               Comoros  2020   3441.070412              NaN\n",
       "481             Azerbaijan  2008  17656.963451              NaN\n",
       "5188               Myanmar  1999   1209.016428              NaN\n",
       "2047               Ecuador  1990   9093.611803              NaN\n",
       "3093  Hong Kong SAR, China  2012  59015.325694              NaN"
      ]
     },
     "execution_count": 4,
     "metadata": {},
     "output_type": "execute_result"
    }
   ],
   "source": [
    "gdp_df.sample(10)"
   ]
  },
  {
   "cell_type": "markdown",
   "id": "34b0ad1d-5dbf-4db9-9795-bd7af437d8b5",
   "metadata": {},
   "source": [
    "### 5. Drop the 'Value Footnotes' column, and rename the remaining columns to 'Country', 'Year', and 'GDP_Per_Capita'."
   ]
  },
  {
   "cell_type": "code",
   "execution_count": 5,
   "id": "981bb6db-e5c2-4afd-b21d-9062101bbfed",
   "metadata": {},
   "outputs": [
    {
     "data": {
      "text/html": [
       "<div>\n",
       "<style scoped>\n",
       "    .dataframe tbody tr th:only-of-type {\n",
       "        vertical-align: middle;\n",
       "    }\n",
       "\n",
       "    .dataframe tbody tr th {\n",
       "        vertical-align: top;\n",
       "    }\n",
       "\n",
       "    .dataframe thead th {\n",
       "        text-align: right;\n",
       "    }\n",
       "</style>\n",
       "<table border=\"1\" class=\"dataframe\">\n",
       "  <thead>\n",
       "    <tr style=\"text-align: right;\">\n",
       "      <th></th>\n",
       "      <th>Country</th>\n",
       "      <th>Year</th>\n",
       "      <th>GDP_Per_Capita</th>\n",
       "    </tr>\n",
       "  </thead>\n",
       "  <tbody>\n",
       "    <tr>\n",
       "      <th>0</th>\n",
       "      <td>Afghanistan</td>\n",
       "      <td>2023</td>\n",
       "      <td>1992.424394</td>\n",
       "    </tr>\n",
       "    <tr>\n",
       "      <th>1</th>\n",
       "      <td>Afghanistan</td>\n",
       "      <td>2022</td>\n",
       "      <td>1981.710168</td>\n",
       "    </tr>\n",
       "    <tr>\n",
       "      <th>2</th>\n",
       "      <td>Afghanistan</td>\n",
       "      <td>2021</td>\n",
       "      <td>2144.166570</td>\n",
       "    </tr>\n",
       "    <tr>\n",
       "      <th>3</th>\n",
       "      <td>Afghanistan</td>\n",
       "      <td>2020</td>\n",
       "      <td>2769.685745</td>\n",
       "    </tr>\n",
       "    <tr>\n",
       "      <th>4</th>\n",
       "      <td>Afghanistan</td>\n",
       "      <td>2019</td>\n",
       "      <td>2927.245144</td>\n",
       "    </tr>\n",
       "  </tbody>\n",
       "</table>\n",
       "</div>"
      ],
      "text/plain": [
       "       Country  Year  GDP_Per_Capita\n",
       "0  Afghanistan  2023     1992.424394\n",
       "1  Afghanistan  2022     1981.710168\n",
       "2  Afghanistan  2021     2144.166570\n",
       "3  Afghanistan  2020     2769.685745\n",
       "4  Afghanistan  2019     2927.245144"
      ]
     },
     "execution_count": 5,
     "metadata": {},
     "output_type": "execute_result"
    }
   ],
   "source": [
    "gdp_df= (\n",
    "    gdp_df\n",
    "    .drop('Value Footnotes', axis=1)\n",
    ")\n",
    "gdp_df.columns=['Country', 'Year', 'GDP_Per_Capita']\n",
    "gdp_df.head()"
   ]
  },
  {
   "cell_type": "markdown",
   "id": "c1238054-0e3a-450e-9f3d-2f58705f7892",
   "metadata": {},
   "source": [
    "### 6. How many rows and columns does gdp_df have? What are the data types of its columns? If any of the columns are not the expected types, figure out why and fix it."
   ]
  },
  {
   "cell_type": "code",
   "execution_count": 6,
   "id": "b3bf02ea-3748-4bfa-9a9f-ed99df41bcce",
   "metadata": {},
   "outputs": [
    {
     "name": "stdout",
     "output_type": "stream",
     "text": [
      "gdp_df has 8219 rows and 3 columns\n",
      "<class 'pandas.core.frame.DataFrame'>\n",
      "RangeIndex: 8219 entries, 0 to 8218\n",
      "Data columns (total 3 columns):\n",
      " #   Column          Non-Null Count  Dtype  \n",
      "---  ------          --------------  -----  \n",
      " 0   Country         8219 non-null   object \n",
      " 1   Year            8219 non-null   int64  \n",
      " 2   GDP_Per_Capita  8219 non-null   float64\n",
      "dtypes: float64(1), int64(1), object(1)\n",
      "memory usage: 192.8+ KB\n"
     ]
    },
    {
     "data": {
      "text/plain": [
       "Index(['Country', 'Year', 'GDP_Per_Capita'], dtype='object')"
      ]
     },
     "execution_count": 6,
     "metadata": {},
     "output_type": "execute_result"
    }
   ],
   "source": [
    "num_rows, num_col= gdp_df.shape\n",
    "print(f\"gdp_df has {num_rows} rows and {num_col} columns\")\n",
    "\n",
    "gdp_df.info();\n",
    "#gdp_df.dtypes()\n",
    "gdp_df.columns"
   ]
  },
  {
   "cell_type": "markdown",
   "id": "aa3fa448-14e6-48d7-b1d8-34c41c8499fe",
   "metadata": {},
   "source": [
    "**response**: gdf has mutliple datatypes in each column, as shown in the printed table above. The first column \"Country or Area\" is an object Dtype and most content are strings of country names. The second column \"Year\" is an integer datatype, and the \"Value\" column is a float datatype, which means that it has numbers with decimal points. \n",
    "\n",
    "All of the columns have non-null values (so no \"NaN\" values to be addressed), and all three columns are the expected datatypes so nothing needs to be changed."
   ]
  },
  {
   "cell_type": "markdown",
   "id": "a5e9cc25-135c-4a4c-8945-e2507f7b5b9c",
   "metadata": {},
   "source": [
    "### 7. Which years are represented in this dataset? Take a look at the number of observations per year. What do you notice?"
   ]
  },
  {
   "cell_type": "code",
   "execution_count": 7,
   "id": "98119887-6784-486a-a61b-7df88a23b829",
   "metadata": {},
   "outputs": [
    {
     "name": "stdout",
     "output_type": "stream",
     "text": [
      "The dataset covers 1990 - 2023\n"
     ]
    },
    {
     "data": {
      "image/png": "[encoded data removed]",
      "text/plain": [
       "<Figure size 640x480 with 1 Axes>"
      ]
     },
     "metadata": {},
     "output_type": "display_data"
    },
    {
     "data": {
      "image/png": "[encoded data removed]",
      "text/plain": [
       "<Figure size 640x480 with 1 Axes>"
      ]
     },
     "metadata": {},
     "output_type": "display_data"
    }
   ],
   "source": [
    "year_list= gdp_df['Year'].value_counts().index\n",
    "print(f'The dataset covers {year_list.min()} - {year_list.max()}')\n",
    "obs_by_year= gdp_df['Year'].value_counts().to_list()\n",
    "year_data_as_series= gdp_df['Year'].value_counts()\n",
    "\n",
    "plt.scatter(year_list, obs_by_year)\n",
    "plt.xlabel(\"Year\")\n",
    "plt.ylabel('Number of Observations')\n",
    "plt.title(\"Number of observations per year\")\n",
    "plt.show()\n",
    "\n",
    "###\n",
    "#Cleaner code\n",
    "###\n",
    "gdp_df['Year'].value_counts().plot()\n",
    "plt.xlabel(\"Year\")\n",
    "plt.ylabel('Number of Observations')\n",
    "plt.title(\"Version 2: Number of observations per year\")\n",
    "plt.show()"
   ]
  },
  {
   "cell_type": "markdown",
   "id": "59f92507-824d-4e83-8e74-e03f70ba0f2a",
   "metadata": {},
   "source": [
    "### 8. How many countries are represented in this dataset? Which countries are least represented in the dataset? Why do you think these countries have so few observations?"
   ]
  },
  {
   "cell_type": "code",
   "execution_count": 8,
   "id": "5b432d0c-3385-46a3-800c-56f68091c1c3",
   "metadata": {},
   "outputs": [
    {
     "name": "stdout",
     "output_type": "stream",
     "text": [
      "The most observations per country is 34 and the least number of observations is 11\n"
     ]
    },
    {
     "data": {
      "image/png": "[encoded data removed]",
      "text/plain": [
       "<Figure size 640x480 with 1 Axes>"
      ]
     },
     "metadata": {},
     "output_type": "display_data"
    },
    {
     "name": "stdout",
     "output_type": "stream",
     "text": [
      "The country with the least amount of observations is Djibouti with 11 observations\n",
      "14 observation categories only have 1 country represented\n"
     ]
    },
    {
     "name": "stderr",
     "output_type": "stream",
     "text": [
      "C:\\Users\\Mullo\\AppData\\Local\\Temp\\ipykernel_13524\\1627789278.py:19: FutureWarning: Series.__getitem__ treating keys as positions is deprecated. In a future version, integer keys will always be treated as labels (consistent with DataFrame behavior). To access a value by position, use `ser.iloc[pos]`\n",
      "  nobs_min_ctry= nobs_grouped.loc[ctry_w_min_obs]['count'][0]\n"
     ]
    },
    {
     "data": {
      "text/plain": [
       "Country\n",
       "Djibouti    11\n",
       "Name: GDP_Per_Capita, dtype: int64"
      ]
     },
     "execution_count": 8,
     "metadata": {},
     "output_type": "execute_result"
    }
   ],
   "source": [
    "#calcualte the min and max number of observations for each country\n",
    "min_num_obs_pct= gdp_df['Country'].value_counts().unique().min()\n",
    "max_num_obs_pct= gdp_df['Country'].value_counts().unique().max()\n",
    "print(f\"The most observations per country is {max_num_obs_pct} and the least number of observations is {min_num_obs_pct}\")\n",
    "\n",
    "#calcualte the number of countries in each \"observation count\" category group by using groupby\n",
    "nobs_grouped= pd.DataFrame(gdp_df['Country'].value_counts())\n",
    "nobs_by_ctry= nobs_grouped.groupby('count')['count'].count()\n",
    "\n",
    "#Make a plot by number of obervations per country (which means number of years with data for each country)\n",
    "plt.bar(x= nobs_by_ctry.index, height=nobs_by_ctry)\n",
    "plt.title(\"Number of countries included in the number of years with observed data\")\n",
    "plt.xlabel(\"Number of obervations\")\n",
    "plt.ylabel(\"Number of countries in each observation categories\")\n",
    "plt.show()\n",
    "\n",
    "#pull out the country index name that has the least number of observations \n",
    "ctry_w_min_obs= nobs_grouped[nobs_grouped['count']== nobs_grouped['count'].min()].index\n",
    "nobs_min_ctry= nobs_grouped.loc[ctry_w_min_obs]['count'][0]\n",
    "# #Summarize the findings \n",
    "print(f\"The country with the least amount of observations is {ctry_w_min_obs[0]} with {nobs_min_ctry} observations\")\n",
    "\n",
    "#Calculate the number of observations that only have 1 country \n",
    "nobs_onecty= (nobs_by_ctry == 1).count()\n",
    "\n",
    "print(f\"{nobs_onecty} observation categories only have 1 country represented\")\n",
    "\n",
    "\n",
    "####\n",
    "#cleaner code\n",
    "###\n",
    "\n",
    "clean_output= gdp_df.groupby(\"Country\")[\"GDP_Per_Capita\"].count().sort_values()\n",
    "clean_output\n",
    "\n",
    "min_ctry= clean_output.nsmallest(n=1, keep='all')\n",
    "min_ctry"
   ]
  },
  {
   "cell_type": "code",
   "execution_count": 9,
   "id": "0ab358e6-c19d-49ed-b30c-c43c74c4dad3",
   "metadata": {},
   "outputs": [
    {
     "name": "stdout",
     "output_type": "stream",
     "text": [
      "The country with the smallest number of observation is Djibouti\n",
      "There are 228 countries that have the largest number of observations\n"
     ]
    }
   ],
   "source": [
    "#additional solution to streamline that analysis: \n",
    "\n",
    "#Sort by value_counts and then use 'n_largest', and use the keep='all' to include all the \"tie\" values \n",
    "large_country= gdp_df['Country'].value_counts().nlargest(n=1, keep='all').index.to_list()\n",
    "small_country= gdp_df['Country'].value_counts().nsmallest(n=1, keep='all').index.to_list()\n",
    "\n",
    "print(f'The country with the smallest number of observation is {small_country[0]}')\n",
    "print(f'There are {len(large_country)} countries that have the largest number of observations')"
   ]
  },
  {
   "cell_type": "markdown",
   "id": "6795378a-052f-4c84-8f4b-edd46265f068",
   "metadata": {},
   "source": [
    "**response:** Djibouti likely has the least number of observations based on the sampling method of the UN. They may not have been able to collect data for all years based on their reporting methods."
   ]
  },
  {
   "cell_type": "markdown",
   "id": "9b9462c9-7810-4da5-880a-a4ee624b00c0",
   "metadata": {},
   "source": [
    "## 9. Create a new dataframe by subsetting gdp_df to just the year 2021. Call this new dataframe gdp_2021."
   ]
  },
  {
   "cell_type": "code",
   "execution_count": 10,
   "id": "50f87874-31c4-4c70-975c-c246a39481e3",
   "metadata": {},
   "outputs": [
    {
     "data": {
      "text/html": [
       "<div>\n",
       "<style scoped>\n",
       "    .dataframe tbody tr th:only-of-type {\n",
       "        vertical-align: middle;\n",
       "    }\n",
       "\n",
       "    .dataframe tbody tr th {\n",
       "        vertical-align: top;\n",
       "    }\n",
       "\n",
       "    .dataframe thead th {\n",
       "        text-align: right;\n",
       "    }\n",
       "</style>\n",
       "<table border=\"1\" class=\"dataframe\">\n",
       "  <thead>\n",
       "    <tr style=\"text-align: right;\">\n",
       "      <th></th>\n",
       "      <th>Country</th>\n",
       "      <th>Year</th>\n",
       "      <th>GDP_Per_Capita</th>\n",
       "    </tr>\n",
       "  </thead>\n",
       "  <tbody>\n",
       "    <tr>\n",
       "      <th>2</th>\n",
       "      <td>Afghanistan</td>\n",
       "      <td>2021</td>\n",
       "      <td>2144.166570</td>\n",
       "    </tr>\n",
       "    <tr>\n",
       "      <th>26</th>\n",
       "      <td>Africa Eastern and Southern</td>\n",
       "      <td>2021</td>\n",
       "      <td>3934.287267</td>\n",
       "    </tr>\n",
       "    <tr>\n",
       "      <th>60</th>\n",
       "      <td>Africa Western and Central</td>\n",
       "      <td>2021</td>\n",
       "      <td>4698.926894</td>\n",
       "    </tr>\n",
       "    <tr>\n",
       "      <th>94</th>\n",
       "      <td>Albania</td>\n",
       "      <td>2021</td>\n",
       "      <td>16113.136519</td>\n",
       "    </tr>\n",
       "    <tr>\n",
       "      <th>128</th>\n",
       "      <td>Algeria</td>\n",
       "      <td>2021</td>\n",
       "      <td>14496.865470</td>\n",
       "    </tr>\n",
       "    <tr>\n",
       "      <th>...</th>\n",
       "      <td>...</td>\n",
       "      <td>...</td>\n",
       "      <td>...</td>\n",
       "    </tr>\n",
       "    <tr>\n",
       "      <th>8067</th>\n",
       "      <td>Virgin Islands</td>\n",
       "      <td>2021</td>\n",
       "      <td>46893.549699</td>\n",
       "    </tr>\n",
       "    <tr>\n",
       "      <th>8089</th>\n",
       "      <td>West Bank and Gaza</td>\n",
       "      <td>2021</td>\n",
       "      <td>5663.121607</td>\n",
       "    </tr>\n",
       "    <tr>\n",
       "      <th>8119</th>\n",
       "      <td>World</td>\n",
       "      <td>2021</td>\n",
       "      <td>19637.823230</td>\n",
       "    </tr>\n",
       "    <tr>\n",
       "      <th>8153</th>\n",
       "      <td>Zambia</td>\n",
       "      <td>2021</td>\n",
       "      <td>3503.034914</td>\n",
       "    </tr>\n",
       "    <tr>\n",
       "      <th>8187</th>\n",
       "      <td>Zimbabwe</td>\n",
       "      <td>2021</td>\n",
       "      <td>3184.785451</td>\n",
       "    </tr>\n",
       "  </tbody>\n",
       "</table>\n",
       "<p>247 rows × 3 columns</p>\n",
       "</div>"
      ],
      "text/plain": [
       "                          Country  Year  GDP_Per_Capita\n",
       "2                     Afghanistan  2021     2144.166570\n",
       "26    Africa Eastern and Southern  2021     3934.287267\n",
       "60     Africa Western and Central  2021     4698.926894\n",
       "94                        Albania  2021    16113.136519\n",
       "128                       Algeria  2021    14496.865470\n",
       "...                           ...   ...             ...\n",
       "8067               Virgin Islands  2021    46893.549699\n",
       "8089           West Bank and Gaza  2021     5663.121607\n",
       "8119                        World  2021    19637.823230\n",
       "8153                       Zambia  2021     3503.034914\n",
       "8187                     Zimbabwe  2021     3184.785451\n",
       "\n",
       "[247 rows x 3 columns]"
      ]
     },
     "execution_count": 10,
     "metadata": {},
     "output_type": "execute_result"
    }
   ],
   "source": [
    "gdp_2021= gdp_df[gdp_df['Year'] == 2021]\n",
    "gdp_2021"
   ]
  },
  {
   "cell_type": "markdown",
   "id": "ccb304b0-4ffe-460d-9fbd-1a3709760ab7",
   "metadata": {},
   "source": [
    "### 10. Use .describe() to find the summary statistics for GDP per capita in 2021."
   ]
  },
  {
   "cell_type": "code",
   "execution_count": 11,
   "id": "dba84114-676a-4876-9700-72b2a339e321",
   "metadata": {},
   "outputs": [
    {
     "data": {
      "text/html": [
       "<div>\n",
       "<style scoped>\n",
       "    .dataframe tbody tr th:only-of-type {\n",
       "        vertical-align: middle;\n",
       "    }\n",
       "\n",
       "    .dataframe tbody tr th {\n",
       "        vertical-align: top;\n",
       "    }\n",
       "\n",
       "    .dataframe thead th {\n",
       "        text-align: right;\n",
       "    }\n",
       "</style>\n",
       "<table border=\"1\" class=\"dataframe\">\n",
       "  <thead>\n",
       "    <tr style=\"text-align: right;\">\n",
       "      <th></th>\n",
       "      <th>Year</th>\n",
       "      <th>GDP_Per_Capita</th>\n",
       "    </tr>\n",
       "  </thead>\n",
       "  <tbody>\n",
       "    <tr>\n",
       "      <th>count</th>\n",
       "      <td>247.0</td>\n",
       "      <td>247.000000</td>\n",
       "    </tr>\n",
       "    <tr>\n",
       "      <th>mean</th>\n",
       "      <td>2021.0</td>\n",
       "      <td>24478.517262</td>\n",
       "    </tr>\n",
       "    <tr>\n",
       "      <th>std</th>\n",
       "      <td>0.0</td>\n",
       "      <td>24601.525764</td>\n",
       "    </tr>\n",
       "    <tr>\n",
       "      <th>min</th>\n",
       "      <td>2021.0</td>\n",
       "      <td>836.665571</td>\n",
       "    </tr>\n",
       "    <tr>\n",
       "      <th>25%</th>\n",
       "      <td>2021.0</td>\n",
       "      <td>5996.532844</td>\n",
       "    </tr>\n",
       "    <tr>\n",
       "      <th>50%</th>\n",
       "      <td>2021.0</td>\n",
       "      <td>15900.976581</td>\n",
       "    </tr>\n",
       "    <tr>\n",
       "      <th>75%</th>\n",
       "      <td>2021.0</td>\n",
       "      <td>37298.776853</td>\n",
       "    </tr>\n",
       "    <tr>\n",
       "      <th>max</th>\n",
       "      <td>2021.0</td>\n",
       "      <td>135379.291201</td>\n",
       "    </tr>\n",
       "  </tbody>\n",
       "</table>\n",
       "</div>"
      ],
      "text/plain": [
       "         Year  GDP_Per_Capita\n",
       "count   247.0      247.000000\n",
       "mean   2021.0    24478.517262\n",
       "std       0.0    24601.525764\n",
       "min    2021.0      836.665571\n",
       "25%    2021.0     5996.532844\n",
       "50%    2021.0    15900.976581\n",
       "75%    2021.0    37298.776853\n",
       "max    2021.0   135379.291201"
      ]
     },
     "execution_count": 11,
     "metadata": {},
     "output_type": "execute_result"
    }
   ],
   "source": [
    "gdp_2021.describe()"
   ]
  },
  {
   "cell_type": "markdown",
   "id": "ed05b0e2-ae96-4f08-a134-5decae470bef",
   "metadata": {},
   "source": [
    "### 11. Create a histogram of GDP Per Capita numbers for 2021 (you may wish to adjust the number of bins for your histogram). How would you describe the shape of the distribution?"
   ]
  },
  {
   "cell_type": "code",
   "execution_count": 12,
   "id": "ab2bdee6-56c1-46cf-856b-8b3779a671e8",
   "metadata": {},
   "outputs": [
    {
     "data": {
      "image/png": "[encoded data removed]",
      "text/plain": [
       "<Figure size 640x480 with 1 Axes>"
      ]
     },
     "metadata": {},
     "output_type": "display_data"
    }
   ],
   "source": [
    "plt.hist(gdp_2021['GDP_Per_Capita'], bins=20);\n",
    "plt.title(\"GDP per capita for 2021\"); "
   ]
  },
  {
   "cell_type": "markdown",
   "id": "49ec2b28-f90c-42a0-abd8-8882e104d0af",
   "metadata": {},
   "source": [
    "**response:** The histogram of GDP per capita for 2021 has a right skew, since there are some extreme values towards the right end of the x-axis"
   ]
  },
  {
   "cell_type": "markdown",
   "id": "7ec658c3-5919-464e-ac51-f4b6def576d2",
   "metadata": {},
   "source": [
    "### 12. Find the top 5 counties and bottom 5 countries by GDP per capita in 2021."
   ]
  },
  {
   "cell_type": "code",
   "execution_count": 13,
   "id": "794a4594-e637-4905-8e7d-cbbf603a4477",
   "metadata": {},
   "outputs": [
    {
     "name": "stdout",
     "output_type": "stream",
     "text": [
      "The top five countries by GDP are: \n",
      " ['Luxembourg' 'Singapore' 'Ireland' 'Qatar' 'Bermuda']\n"
     ]
    },
    {
     "data": {
      "text/html": [
       "<div>\n",
       "<style scoped>\n",
       "    .dataframe tbody tr th:only-of-type {\n",
       "        vertical-align: middle;\n",
       "    }\n",
       "\n",
       "    .dataframe tbody tr th {\n",
       "        vertical-align: top;\n",
       "    }\n",
       "\n",
       "    .dataframe thead th {\n",
       "        text-align: right;\n",
       "    }\n",
       "</style>\n",
       "<table border=\"1\" class=\"dataframe\">\n",
       "  <thead>\n",
       "    <tr style=\"text-align: right;\">\n",
       "      <th></th>\n",
       "      <th>Country</th>\n",
       "      <th>Year</th>\n",
       "      <th>GDP_Per_Capita</th>\n",
       "    </tr>\n",
       "  </thead>\n",
       "  <tbody>\n",
       "    <tr>\n",
       "      <th>4425</th>\n",
       "      <td>Luxembourg</td>\n",
       "      <td>2021</td>\n",
       "      <td>135379.291201</td>\n",
       "    </tr>\n",
       "    <tr>\n",
       "      <th>6513</th>\n",
       "      <td>Singapore</td>\n",
       "      <td>2021</td>\n",
       "      <td>131864.092336</td>\n",
       "    </tr>\n",
       "    <tr>\n",
       "      <th>3492</th>\n",
       "      <td>Ireland</td>\n",
       "      <td>2021</td>\n",
       "      <td>118594.746862</td>\n",
       "    </tr>\n",
       "    <tr>\n",
       "      <th>6118</th>\n",
       "      <td>Qatar</td>\n",
       "      <td>2021</td>\n",
       "      <td>116832.570290</td>\n",
       "    </tr>\n",
       "    <tr>\n",
       "      <th>740</th>\n",
       "      <td>Bermuda</td>\n",
       "      <td>2021</td>\n",
       "      <td>92276.234605</td>\n",
       "    </tr>\n",
       "  </tbody>\n",
       "</table>\n",
       "</div>"
      ],
      "text/plain": [
       "         Country  Year  GDP_Per_Capita\n",
       "4425  Luxembourg  2021   135379.291201\n",
       "6513   Singapore  2021   131864.092336\n",
       "3492     Ireland  2021   118594.746862\n",
       "6118       Qatar  2021   116832.570290\n",
       "740      Bermuda  2021    92276.234605"
      ]
     },
     "execution_count": 13,
     "metadata": {},
     "output_type": "execute_result"
    }
   ],
   "source": [
    "#Sort the 2021 dataframe by value \n",
    "gdp_2021_sorted= gdp_2021.sort_values(by='GDP_Per_Capita', ascending=False)\n",
    "\n",
    "top_five= gdp_2021_sorted.iloc[:5]\n",
    "print(\"The top five countries by GDP are: \\n\", top_five['Country'].values)\n",
    "top_five\n",
    "\n",
    "\n",
    "####\n",
    "#Cleaner code\n",
    "####\n",
    "\n",
    "top_five_clean= gdp_2021.nlargest(5, \"GDP_Per_Capita\", keep='all')\n",
    "top_five_clean"
   ]
  },
  {
   "cell_type": "code",
   "execution_count": 14,
   "id": "02b7e5c7-039f-4854-a7fb-351d838b8f0d",
   "metadata": {},
   "outputs": [
    {
     "name": "stdout",
     "output_type": "stream",
     "text": [
      "The bottom five countries by GDP are: \n",
      " ['Mozambique' 'Somalia' 'Dem. Rep. Congo' 'Central African Republic'\n",
      " 'Burundi']\n"
     ]
    },
    {
     "data": {
      "text/html": [
       "<div>\n",
       "<style scoped>\n",
       "    .dataframe tbody tr th:only-of-type {\n",
       "        vertical-align: middle;\n",
       "    }\n",
       "\n",
       "    .dataframe tbody tr th {\n",
       "        vertical-align: top;\n",
       "    }\n",
       "\n",
       "    .dataframe thead th {\n",
       "        text-align: right;\n",
       "    }\n",
       "</style>\n",
       "<table border=\"1\" class=\"dataframe\">\n",
       "  <thead>\n",
       "    <tr style=\"text-align: right;\">\n",
       "      <th></th>\n",
       "      <th>Country</th>\n",
       "      <th>Year</th>\n",
       "      <th>GDP_Per_Capita</th>\n",
       "    </tr>\n",
       "  </thead>\n",
       "  <tbody>\n",
       "    <tr>\n",
       "      <th>1045</th>\n",
       "      <td>Burundi</td>\n",
       "      <td>2021</td>\n",
       "      <td>836.665571</td>\n",
       "    </tr>\n",
       "    <tr>\n",
       "      <th>1301</th>\n",
       "      <td>Central African Republic</td>\n",
       "      <td>2021</td>\n",
       "      <td>1128.552380</td>\n",
       "    </tr>\n",
       "    <tr>\n",
       "      <th>1733</th>\n",
       "      <td>Dem. Rep. Congo</td>\n",
       "      <td>2021</td>\n",
       "      <td>1313.618218</td>\n",
       "    </tr>\n",
       "    <tr>\n",
       "      <th>6698</th>\n",
       "      <td>Somalia</td>\n",
       "      <td>2021</td>\n",
       "      <td>1392.464262</td>\n",
       "    </tr>\n",
       "    <tr>\n",
       "      <th>5132</th>\n",
       "      <td>Mozambique</td>\n",
       "      <td>2021</td>\n",
       "      <td>1457.235409</td>\n",
       "    </tr>\n",
       "  </tbody>\n",
       "</table>\n",
       "</div>"
      ],
      "text/plain": [
       "                       Country  Year  GDP_Per_Capita\n",
       "1045                   Burundi  2021      836.665571\n",
       "1301  Central African Republic  2021     1128.552380\n",
       "1733           Dem. Rep. Congo  2021     1313.618218\n",
       "6698                   Somalia  2021     1392.464262\n",
       "5132                Mozambique  2021     1457.235409"
      ]
     },
     "execution_count": 14,
     "metadata": {},
     "output_type": "execute_result"
    }
   ],
   "source": [
    "bottom_five= gdp_2021_sorted.iloc[-5:]\n",
    "print(\"The bottom five countries by GDP are: \\n\", bottom_five['Country'].values)\n",
    "bottom_five\n",
    "\n",
    "####\n",
    "####\n",
    "#Cleaner code\n",
    "####\n",
    "\n",
    "bot_five_clean= gdp_2021.nsmallest(5, \"GDP_Per_Capita\", keep='all')\n",
    "bot_five_clean"
   ]
  },
  {
   "cell_type": "markdown",
   "id": "2be37be9-323e-4bb9-aee0-218d5977705f",
   "metadata": {},
   "source": [
    "## 13. Now, return to the full dataset, gdp_df. Pivot the data for 1990 and 2021 (using the pandas .pivot_table() method or another method) so that each row corresponds to a country, each column corresponds to a year, and the values in the table give the GDP_Per_Capita amount. Drop any rows that are missing values for either 1990 or 2021. Save the result to a dataframe named gdp_pivoted."
   ]
  },
  {
   "cell_type": "code",
   "execution_count": 15,
   "id": "94abc85e-ee15-41d6-b6fb-264ba0288004",
   "metadata": {},
   "outputs": [
    {
     "data": {
      "text/html": [
       "<div>\n",
       "<style scoped>\n",
       "    .dataframe tbody tr th:only-of-type {\n",
       "        vertical-align: middle;\n",
       "    }\n",
       "\n",
       "    .dataframe tbody tr th {\n",
       "        vertical-align: top;\n",
       "    }\n",
       "\n",
       "    .dataframe thead th {\n",
       "        text-align: right;\n",
       "    }\n",
       "</style>\n",
       "<table border=\"1\" class=\"dataframe\">\n",
       "  <thead>\n",
       "    <tr style=\"text-align: right;\">\n",
       "      <th>Year</th>\n",
       "      <th>1990</th>\n",
       "      <th>2021</th>\n",
       "    </tr>\n",
       "    <tr>\n",
       "      <th>Country</th>\n",
       "      <th></th>\n",
       "      <th></th>\n",
       "    </tr>\n",
       "  </thead>\n",
       "  <tbody>\n",
       "    <tr>\n",
       "      <th>Africa Eastern and Southern</th>\n",
       "      <td>3386.854480</td>\n",
       "      <td>3934.287267</td>\n",
       "    </tr>\n",
       "    <tr>\n",
       "      <th>Africa Western and Central</th>\n",
       "      <td>3299.401375</td>\n",
       "      <td>4698.926894</td>\n",
       "    </tr>\n",
       "    <tr>\n",
       "      <th>Albania</th>\n",
       "      <td>5327.747458</td>\n",
       "      <td>16113.136519</td>\n",
       "    </tr>\n",
       "    <tr>\n",
       "      <th>Algeria</th>\n",
       "      <td>11728.545729</td>\n",
       "      <td>14496.865470</td>\n",
       "    </tr>\n",
       "    <tr>\n",
       "      <th>Andorra</th>\n",
       "      <td>50036.300776</td>\n",
       "      <td>59332.202910</td>\n",
       "    </tr>\n",
       "    <tr>\n",
       "      <th>...</th>\n",
       "      <td>...</td>\n",
       "      <td>...</td>\n",
       "    </tr>\n",
       "    <tr>\n",
       "      <th>Vanuatu</th>\n",
       "      <td>3101.680551</td>\n",
       "      <td>3135.836649</td>\n",
       "    </tr>\n",
       "    <tr>\n",
       "      <th>Viet Nam</th>\n",
       "      <td>2467.964601</td>\n",
       "      <td>12048.901994</td>\n",
       "    </tr>\n",
       "    <tr>\n",
       "      <th>World</th>\n",
       "      <td>11207.386344</td>\n",
       "      <td>19637.823230</td>\n",
       "    </tr>\n",
       "    <tr>\n",
       "      <th>Zambia</th>\n",
       "      <td>2425.111287</td>\n",
       "      <td>3503.034914</td>\n",
       "    </tr>\n",
       "    <tr>\n",
       "      <th>Zimbabwe</th>\n",
       "      <td>4013.299059</td>\n",
       "      <td>3184.785451</td>\n",
       "    </tr>\n",
       "  </tbody>\n",
       "</table>\n",
       "<p>233 rows × 2 columns</p>\n",
       "</div>"
      ],
      "text/plain": [
       "Year                                 1990          2021\n",
       "Country                                                \n",
       "Africa Eastern and Southern   3386.854480   3934.287267\n",
       "Africa Western and Central    3299.401375   4698.926894\n",
       "Albania                       5327.747458  16113.136519\n",
       "Algeria                      11728.545729  14496.865470\n",
       "Andorra                      50036.300776  59332.202910\n",
       "...                                   ...           ...\n",
       "Vanuatu                       3101.680551   3135.836649\n",
       "Viet Nam                      2467.964601  12048.901994\n",
       "World                        11207.386344  19637.823230\n",
       "Zambia                        2425.111287   3503.034914\n",
       "Zimbabwe                      4013.299059   3184.785451\n",
       "\n",
       "[233 rows x 2 columns]"
      ]
     },
     "execution_count": 15,
     "metadata": {},
     "output_type": "execute_result"
    }
   ],
   "source": [
    "gdp_df_filter= gdp_df[(gdp_df['Year'] == 1990) | (gdp_df['Year'] == 2021)]\n",
    "\n",
    "\n",
    "gdp_pivoted= gdp_df_filter.pivot_table(\n",
    "    values=\"GDP_Per_Capita\", \n",
    "    index=\"Country\", \n",
    "    columns=\"Year\"\n",
    ").dropna( subset=[1990, 2021])\n",
    "\n",
    "gdp_pivoted\n",
    "\n",
    "# ###\n",
    "# #cleaner code\n",
    "# ###\n",
    "# gdp_pivoted= gdp_df['Year'].isin([1990, 2021]).pivot_table(\n",
    "#     values=\"GDP_Per_Capita\", \n",
    "#     index=\"Country\", \n",
    "#     columns=\"Year\"\n",
    "# ).dropna()\n",
    "\n",
    "# gdp_pivoted\n",
    "\n",
    "# ###"
   ]
  },
  {
   "cell_type": "code",
   "execution_count": 16,
   "id": "b8e171c0-17ac-451b-ae42-7a5160977264",
   "metadata": {},
   "outputs": [
    {
     "data": {
      "text/plain": [
       "Index([1990, 2021], dtype='int64', name='Year')"
      ]
     },
     "execution_count": 16,
     "metadata": {},
     "output_type": "execute_result"
    }
   ],
   "source": [
    "gdp_pivoted.columns"
   ]
  },
  {
   "cell_type": "markdown",
   "id": "f999fab4-0d5a-4f8c-8090-151fbb292daf",
   "metadata": {},
   "source": [
    "### 14. Create a new column in gdp_pivoted named Percent_Change. This column should contain the percent change in GDP_Per_Capita from 1990 to 2021. Hint: Percent change is calculated as 100*(New Value - Old Value) / Old Value."
   ]
  },
  {
   "cell_type": "code",
   "execution_count": 17,
   "id": "9201933d-e934-4d82-a313-c24bcb55a548",
   "metadata": {},
   "outputs": [
    {
     "data": {
      "text/html": [
       "<div>\n",
       "<style scoped>\n",
       "    .dataframe tbody tr th:only-of-type {\n",
       "        vertical-align: middle;\n",
       "    }\n",
       "\n",
       "    .dataframe tbody tr th {\n",
       "        vertical-align: top;\n",
       "    }\n",
       "\n",
       "    .dataframe thead th {\n",
       "        text-align: right;\n",
       "    }\n",
       "</style>\n",
       "<table border=\"1\" class=\"dataframe\">\n",
       "  <thead>\n",
       "    <tr style=\"text-align: right;\">\n",
       "      <th>Year</th>\n",
       "      <th>1990</th>\n",
       "      <th>2021</th>\n",
       "      <th>Percent_Change</th>\n",
       "    </tr>\n",
       "    <tr>\n",
       "      <th>Country</th>\n",
       "      <th></th>\n",
       "      <th></th>\n",
       "      <th></th>\n",
       "    </tr>\n",
       "  </thead>\n",
       "  <tbody>\n",
       "    <tr>\n",
       "      <th>Africa Eastern and Southern</th>\n",
       "      <td>3386.854480</td>\n",
       "      <td>3934.287267</td>\n",
       "      <td>16.163458</td>\n",
       "    </tr>\n",
       "    <tr>\n",
       "      <th>Africa Western and Central</th>\n",
       "      <td>3299.401375</td>\n",
       "      <td>4698.926894</td>\n",
       "      <td>42.417559</td>\n",
       "    </tr>\n",
       "    <tr>\n",
       "      <th>Albania</th>\n",
       "      <td>5327.747458</td>\n",
       "      <td>16113.136519</td>\n",
       "      <td>202.438069</td>\n",
       "    </tr>\n",
       "    <tr>\n",
       "      <th>Algeria</th>\n",
       "      <td>11728.545729</td>\n",
       "      <td>14496.865470</td>\n",
       "      <td>23.603265</td>\n",
       "    </tr>\n",
       "    <tr>\n",
       "      <th>Andorra</th>\n",
       "      <td>50036.300776</td>\n",
       "      <td>59332.202910</td>\n",
       "      <td>18.578316</td>\n",
       "    </tr>\n",
       "    <tr>\n",
       "      <th>...</th>\n",
       "      <td>...</td>\n",
       "      <td>...</td>\n",
       "      <td>...</td>\n",
       "    </tr>\n",
       "    <tr>\n",
       "      <th>Vanuatu</th>\n",
       "      <td>3101.680551</td>\n",
       "      <td>3135.836649</td>\n",
       "      <td>1.101213</td>\n",
       "    </tr>\n",
       "    <tr>\n",
       "      <th>Viet Nam</th>\n",
       "      <td>2467.964601</td>\n",
       "      <td>12048.901994</td>\n",
       "      <td>388.212108</td>\n",
       "    </tr>\n",
       "    <tr>\n",
       "      <th>World</th>\n",
       "      <td>11207.386344</td>\n",
       "      <td>19637.823230</td>\n",
       "      <td>75.222149</td>\n",
       "    </tr>\n",
       "    <tr>\n",
       "      <th>Zambia</th>\n",
       "      <td>2425.111287</td>\n",
       "      <td>3503.034914</td>\n",
       "      <td>44.448419</td>\n",
       "    </tr>\n",
       "    <tr>\n",
       "      <th>Zimbabwe</th>\n",
       "      <td>4013.299059</td>\n",
       "      <td>3184.785451</td>\n",
       "      <td>-20.644203</td>\n",
       "    </tr>\n",
       "  </tbody>\n",
       "</table>\n",
       "<p>233 rows × 3 columns</p>\n",
       "</div>"
      ],
      "text/plain": [
       "Year                                 1990          2021  Percent_Change\n",
       "Country                                                                \n",
       "Africa Eastern and Southern   3386.854480   3934.287267       16.163458\n",
       "Africa Western and Central    3299.401375   4698.926894       42.417559\n",
       "Albania                       5327.747458  16113.136519      202.438069\n",
       "Algeria                      11728.545729  14496.865470       23.603265\n",
       "Andorra                      50036.300776  59332.202910       18.578316\n",
       "...                                   ...           ...             ...\n",
       "Vanuatu                       3101.680551   3135.836649        1.101213\n",
       "Viet Nam                      2467.964601  12048.901994      388.212108\n",
       "World                        11207.386344  19637.823230       75.222149\n",
       "Zambia                        2425.111287   3503.034914       44.448419\n",
       "Zimbabwe                      4013.299059   3184.785451      -20.644203\n",
       "\n",
       "[233 rows x 3 columns]"
      ]
     },
     "execution_count": 17,
     "metadata": {},
     "output_type": "execute_result"
    }
   ],
   "source": [
    "gdp_pivoted['Percent_Change'] = ((gdp_pivoted[2021]-gdp_pivoted[1990])/(gdp_pivoted[1990]))*100\n",
    "gdp_pivoted"
   ]
  },
  {
   "cell_type": "markdown",
   "id": "2f67f8e2-4ef3-4977-94f7-c12851e12324",
   "metadata": {},
   "source": [
    "### 15. How many countries experienced a negative percent change in GDP per capita from 1990 to 2021?"
   ]
  },
  {
   "cell_type": "code",
   "execution_count": 18,
   "id": "19e72854-f240-4154-82e1-79a5b0633837",
   "metadata": {},
   "outputs": [
    {
     "name": "stdout",
     "output_type": "stream",
     "text": [
      "23 had a negative percent change in GDP from 1990-2021\n",
      "23 had a negative percent change in GDP from 1990-2021\n"
     ]
    }
   ],
   "source": [
    "n_countries= gdp_pivoted[gdp_pivoted['Percent_Change'] <0]['Percent_Change'].count()\n",
    "print(f\"{n_countries} had a negative percent change in GDP from 1990-2021\")\n",
    "\n",
    "n_countries= (gdp_pivoted['Percent_Change'] <0).sum()\n",
    "print(f\"{n_countries} had a negative percent change in GDP from 1990-2021\")"
   ]
  },
  {
   "cell_type": "markdown",
   "id": "a968a523-527a-4b58-b77b-36faa5028130",
   "metadata": {},
   "source": [
    "### 16. Which country had the highest % change in GDP per capita? Create a line plot showing this country's GDP per capita for all years from 1990 to 2018. Create another showing the country with the second highest % change in GDP. How do the trends in these countries compare?\n",
    "Bonus: Put both line charts on the same plot."
   ]
  },
  {
   "cell_type": "code",
   "execution_count": 19,
   "id": "c27f3371-9b0f-444a-84a7-a4def65af2c5",
   "metadata": {},
   "outputs": [
    {
     "name": "stdout",
     "output_type": "stream",
     "text": [
      "The country with the highest %change in GDP per capita between 1990 and 2021 is Equatorial Guinea\n",
      "The country with the second highest %change in GDP per capita between 1990 and 2021 is China\n"
     ]
    },
    {
     "data": {
      "image/png": "[encoded data removed]",
      "text/plain": [
       "<Figure size 640x480 with 1 Axes>"
      ]
     },
     "metadata": {},
     "output_type": "display_data"
    }
   ],
   "source": [
    "highest_gdp_ctry= gdp_pivoted['Percent_Change'].nlargest(1).index[0]\n",
    "print(f'The country with the highest %change in GDP per capita between 1990 and 2021 is {highest_gdp_ctry}')\n",
    "\n",
    "#Pull out all dataset for this country \n",
    "highest_gdp_ctry\n",
    "\n",
    "#Create a graph with both top 2 countries in the same lineplot, by plotting a two-column dataframe \n",
    "\n",
    "sec_highest_gdp_ctry= gdp_pivoted['Percent_Change'].nlargest(2).index[1]\n",
    "print(f'The country with the second highest %change in GDP per capita between 1990 and 2021 is {sec_highest_gdp_ctry}')\n",
    "\n",
    "#pull out only two country data from original datagframe \n",
    "gdp_highest_pcgdp_2= gdp_df[(gdp_df['Country'] == highest_gdp_ctry) | (gdp_df['Country'] == sec_highest_gdp_ctry)]\n",
    "gdp_highest_pcgdp_2\n",
    "#create graph with both lines\n",
    "forplot= gdp_highest_pcgdp_2[(gdp_highest_pcgdp_2['Year'] == 1990) | (gdp_highest_pcgdp_2['Year'] <= 2018)]\n",
    "forplot= forplot.set_index('Year')\n",
    "#filter and graph each plot\n",
    "\n",
    "###\n",
    "#creating a plot with both country information \n",
    "##\n",
    "\n",
    "#x value- get all year info as a list\n",
    "year_list= sorted(set(forplot.index)) \n",
    "#y value 1 = get all info for the specific country 1\n",
    "top_c= forplot[forplot['Country'] == highest_gdp_ctry]\n",
    "\n",
    "#y value 2 = get all info for the specific country 1\n",
    "top_2c= forplot[forplot['Country'] == sec_highest_gdp_ctry]\n",
    "\n",
    "#plot both lines together\n",
    "plt.plot(top_c.index, top_c['GDP_Per_Capita'], label=f'{highest_gdp_ctry}');\n",
    "plt.plot(top_2c.index, top_2c['GDP_Per_Capita'], label=f'{sec_highest_gdp_ctry}');\n",
    "plt.ylabel('GDP per capita')\n",
    "plt.title(f'GDP per capita from 1990-2018')\n",
    "plt.legend();\n",
    "plt.show()"
   ]
  },
  {
   "cell_type": "markdown",
   "id": "b48c97e7-a5ff-4eaa-b287-8ae55b16e40c",
   "metadata": {},
   "source": [
    "## 17. Read in continents.csv contained in the data folder into a new dataframe called continents. We will be using this dataframe to add a new column to our dataset."
   ]
  },
  {
   "cell_type": "code",
   "execution_count": 20,
   "id": "ffa81e39-4598-4462-b9d2-83b8f3c3dfba",
   "metadata": {},
   "outputs": [
    {
     "data": {
      "text/html": [
       "<div>\n",
       "<style scoped>\n",
       "    .dataframe tbody tr th:only-of-type {\n",
       "        vertical-align: middle;\n",
       "    }\n",
       "\n",
       "    .dataframe tbody tr th {\n",
       "        vertical-align: top;\n",
       "    }\n",
       "\n",
       "    .dataframe thead th {\n",
       "        text-align: right;\n",
       "    }\n",
       "</style>\n",
       "<table border=\"1\" class=\"dataframe\">\n",
       "  <thead>\n",
       "    <tr style=\"text-align: right;\">\n",
       "      <th></th>\n",
       "      <th>Continent</th>\n",
       "      <th>Country</th>\n",
       "    </tr>\n",
       "  </thead>\n",
       "  <tbody>\n",
       "    <tr>\n",
       "      <th>0</th>\n",
       "      <td>Asia</td>\n",
       "      <td>Afghanistan</td>\n",
       "    </tr>\n",
       "    <tr>\n",
       "      <th>1</th>\n",
       "      <td>Europe</td>\n",
       "      <td>Albania</td>\n",
       "    </tr>\n",
       "    <tr>\n",
       "      <th>2</th>\n",
       "      <td>Africa</td>\n",
       "      <td>Algeria</td>\n",
       "    </tr>\n",
       "    <tr>\n",
       "      <th>3</th>\n",
       "      <td>Europe</td>\n",
       "      <td>Andorra</td>\n",
       "    </tr>\n",
       "    <tr>\n",
       "      <th>4</th>\n",
       "      <td>Africa</td>\n",
       "      <td>Angola</td>\n",
       "    </tr>\n",
       "    <tr>\n",
       "      <th>...</th>\n",
       "      <td>...</td>\n",
       "      <td>...</td>\n",
       "    </tr>\n",
       "    <tr>\n",
       "      <th>211</th>\n",
       "      <td>Asia</td>\n",
       "      <td>Vietnam</td>\n",
       "    </tr>\n",
       "    <tr>\n",
       "      <th>212</th>\n",
       "      <td>Asia</td>\n",
       "      <td>West Bank and Gaza</td>\n",
       "    </tr>\n",
       "    <tr>\n",
       "      <th>213</th>\n",
       "      <td>Asia</td>\n",
       "      <td>Yemen</td>\n",
       "    </tr>\n",
       "    <tr>\n",
       "      <th>214</th>\n",
       "      <td>Africa</td>\n",
       "      <td>Zambia</td>\n",
       "    </tr>\n",
       "    <tr>\n",
       "      <th>215</th>\n",
       "      <td>Africa</td>\n",
       "      <td>Zimbabwe</td>\n",
       "    </tr>\n",
       "  </tbody>\n",
       "</table>\n",
       "<p>216 rows × 2 columns</p>\n",
       "</div>"
      ],
      "text/plain": [
       "    Continent             Country\n",
       "0        Asia         Afghanistan\n",
       "1      Europe             Albania\n",
       "2      Africa             Algeria\n",
       "3      Europe             Andorra\n",
       "4      Africa              Angola\n",
       "..        ...                 ...\n",
       "211      Asia             Vietnam\n",
       "212      Asia  West Bank and Gaza\n",
       "213      Asia               Yemen\n",
       "214    Africa              Zambia\n",
       "215    Africa            Zimbabwe\n",
       "\n",
       "[216 rows x 2 columns]"
      ]
     },
     "execution_count": 20,
     "metadata": {},
     "output_type": "execute_result"
    }
   ],
   "source": [
    "continents= pd.read_csv('../data/continents.csv')\n",
    "continents"
   ]
  },
  {
   "cell_type": "markdown",
   "id": "7913fdde-760d-4dfd-b74e-d0d6ed8e2ad8",
   "metadata": {},
   "source": [
    "#### 18. Merge gdp_df and continents. Keep only the countries that appear in both data frames. Save the result back to gdp_df."
   ]
  },
  {
   "cell_type": "code",
   "execution_count": 22,
   "id": "092fa355-5d26-4b45-85ac-39ad14cabdf7",
   "metadata": {},
   "outputs": [
    {
     "data": {
      "text/html": [
       "<div>\n",
       "<style scoped>\n",
       "    .dataframe tbody tr th:only-of-type {\n",
       "        vertical-align: middle;\n",
       "    }\n",
       "\n",
       "    .dataframe tbody tr th {\n",
       "        vertical-align: top;\n",
       "    }\n",
       "\n",
       "    .dataframe thead th {\n",
       "        text-align: right;\n",
       "    }\n",
       "</style>\n",
       "<table border=\"1\" class=\"dataframe\">\n",
       "  <thead>\n",
       "    <tr style=\"text-align: right;\">\n",
       "      <th></th>\n",
       "      <th>Country</th>\n",
       "      <th>Year</th>\n",
       "      <th>GDP_Per_Capita</th>\n",
       "      <th>Continent</th>\n",
       "    </tr>\n",
       "  </thead>\n",
       "  <tbody>\n",
       "    <tr>\n",
       "      <th>0</th>\n",
       "      <td>Afghanistan</td>\n",
       "      <td>2023</td>\n",
       "      <td>1992.424394</td>\n",
       "      <td>Asia</td>\n",
       "    </tr>\n",
       "    <tr>\n",
       "      <th>1</th>\n",
       "      <td>Afghanistan</td>\n",
       "      <td>2022</td>\n",
       "      <td>1981.710168</td>\n",
       "      <td>Asia</td>\n",
       "    </tr>\n",
       "    <tr>\n",
       "      <th>2</th>\n",
       "      <td>Afghanistan</td>\n",
       "      <td>2021</td>\n",
       "      <td>2144.166570</td>\n",
       "      <td>Asia</td>\n",
       "    </tr>\n",
       "    <tr>\n",
       "      <th>3</th>\n",
       "      <td>Afghanistan</td>\n",
       "      <td>2020</td>\n",
       "      <td>2769.685745</td>\n",
       "      <td>Asia</td>\n",
       "    </tr>\n",
       "    <tr>\n",
       "      <th>4</th>\n",
       "      <td>Afghanistan</td>\n",
       "      <td>2019</td>\n",
       "      <td>2927.245144</td>\n",
       "      <td>Asia</td>\n",
       "    </tr>\n",
       "    <tr>\n",
       "      <th>...</th>\n",
       "      <td>...</td>\n",
       "      <td>...</td>\n",
       "      <td>...</td>\n",
       "      <td>...</td>\n",
       "    </tr>\n",
       "    <tr>\n",
       "      <th>6258</th>\n",
       "      <td>Zimbabwe</td>\n",
       "      <td>1994</td>\n",
       "      <td>3965.730986</td>\n",
       "      <td>Africa</td>\n",
       "    </tr>\n",
       "    <tr>\n",
       "      <th>6259</th>\n",
       "      <td>Zimbabwe</td>\n",
       "      <td>1993</td>\n",
       "      <td>3634.750494</td>\n",
       "      <td>Africa</td>\n",
       "    </tr>\n",
       "    <tr>\n",
       "      <th>6260</th>\n",
       "      <td>Zimbabwe</td>\n",
       "      <td>1992</td>\n",
       "      <td>3649.891947</td>\n",
       "      <td>Africa</td>\n",
       "    </tr>\n",
       "    <tr>\n",
       "      <th>6261</th>\n",
       "      <td>Zimbabwe</td>\n",
       "      <td>1991</td>\n",
       "      <td>4126.405247</td>\n",
       "      <td>Africa</td>\n",
       "    </tr>\n",
       "    <tr>\n",
       "      <th>6262</th>\n",
       "      <td>Zimbabwe</td>\n",
       "      <td>1990</td>\n",
       "      <td>4013.299059</td>\n",
       "      <td>Africa</td>\n",
       "    </tr>\n",
       "  </tbody>\n",
       "</table>\n",
       "<p>6263 rows × 4 columns</p>\n",
       "</div>"
      ],
      "text/plain": [
       "          Country  Year  GDP_Per_Capita Continent\n",
       "0     Afghanistan  2023     1992.424394      Asia\n",
       "1     Afghanistan  2022     1981.710168      Asia\n",
       "2     Afghanistan  2021     2144.166570      Asia\n",
       "3     Afghanistan  2020     2769.685745      Asia\n",
       "4     Afghanistan  2019     2927.245144      Asia\n",
       "...           ...   ...             ...       ...\n",
       "6258     Zimbabwe  1994     3965.730986    Africa\n",
       "6259     Zimbabwe  1993     3634.750494    Africa\n",
       "6260     Zimbabwe  1992     3649.891947    Africa\n",
       "6261     Zimbabwe  1991     4126.405247    Africa\n",
       "6262     Zimbabwe  1990     4013.299059    Africa\n",
       "\n",
       "[6263 rows x 4 columns]"
      ]
     },
     "execution_count": 22,
     "metadata": {},
     "output_type": "execute_result"
    }
   ],
   "source": [
    "gdp_df.columns\n",
    "\n",
    "#Create the merge code \n",
    "gdp_df= pd.merge(\n",
    "    gdp_df, \n",
    "    continents, \n",
    "    how='inner', \n",
    "    validate='many_to_one'\n",
    ") #left_on='Country or Area', right_on='Country',\n",
    "\n",
    "#display new dataframe\n",
    "gdp_df"
   ]
  },
  {
   "cell_type": "markdown",
   "id": "8e69aa2b-5c2d-41e0-b3c0-990fc7dcb20e",
   "metadata": {},
   "source": [
    "#### 19. Determine the number of countries per continent. Create a bar chart showing this."
   ]
  },
  {
   "cell_type": "code",
   "execution_count": 28,
   "id": "8934bc18-f405-41c1-87ab-20273f492cd1",
   "metadata": {},
   "outputs": [
    {
     "data": {
      "image/png": "[encoded data removed]",
      "text/plain": [
       "<Figure size 640x480 with 1 Axes>"
      ]
     },
     "metadata": {},
     "output_type": "display_data"
    },
    {
     "data": {
      "image/png": "[encoded data removed]",
      "text/plain": [
       "<Figure size 640x480 with 1 Axes>"
      ]
     },
     "metadata": {},
     "output_type": "display_data"
    },
    {
     "ename": "AttributeError",
     "evalue": "'numpy.int64' object has no attribute 'plot'",
     "output_type": "error",
     "traceback": [
      "\u001b[1;31m---------------------------------------------------------------------------\u001b[0m",
      "\u001b[1;31mAttributeError\u001b[0m                            Traceback (most recent call last)",
      "Cell \u001b[1;32mIn[28], line 17\u001b[0m\n\u001b[0;32m     15\u001b[0m \u001b[38;5;66;03m# strategy 2- drop duplicates\u001b[39;00m\n\u001b[0;32m     16\u001b[0m n_ctry_by_cont\u001b[38;5;241m=\u001b[39m gdp_df\u001b[38;5;241m.\u001b[39mdrop_duplicates(subset\u001b[38;5;241m=\u001b[39m[\u001b[38;5;124m'\u001b[39m\u001b[38;5;124mContinent\u001b[39m\u001b[38;5;124m'\u001b[39m,\u001b[38;5;124m'\u001b[39m\u001b[38;5;124mCountry\u001b[39m\u001b[38;5;124m'\u001b[39m])[\u001b[38;5;124m'\u001b[39m\u001b[38;5;124mCountry\u001b[39m\u001b[38;5;124m'\u001b[39m]\u001b[38;5;241m.\u001b[39mcount()\n\u001b[1;32m---> 17\u001b[0m n_ctry_by_cont\u001b[38;5;241m.\u001b[39mplot(kind\u001b[38;5;241m=\u001b[39m\u001b[38;5;124m'\u001b[39m\u001b[38;5;124mbar\u001b[39m\u001b[38;5;124m'\u001b[39m);\n\u001b[0;32m     18\u001b[0m plt\u001b[38;5;241m.\u001b[39mtitle(\u001b[38;5;124m'\u001b[39m\u001b[38;5;124mNumber of countries per continent\u001b[39m\u001b[38;5;124m'\u001b[39m)\n\u001b[0;32m     19\u001b[0m plt\u001b[38;5;241m.\u001b[39mylabel(\u001b[38;5;124m'\u001b[39m\u001b[38;5;124mNumber of Countries\u001b[39m\u001b[38;5;124m'\u001b[39m)\n",
      "\u001b[1;31mAttributeError\u001b[0m: 'numpy.int64' object has no attribute 'plot'"
     ]
    }
   ],
   "source": [
    "n_ctry_by_cont= continents.groupby('Continent')['Country'].count()\n",
    "n_ctry_by_cont.plot(kind='bar');\n",
    "plt.title('Number of countries per continent')\n",
    "plt.ylabel('Number of Countries')\n",
    "plt.show()\n",
    "\n",
    "\n",
    "###If graph by gdp_df \n",
    "n_ctry_by_cont= gdp_df.groupby('Continent')['Country'].nunique()\n",
    "n_ctry_by_cont.plot(kind='bar');\n",
    "plt.title('Number of countries per continent')\n",
    "plt.ylabel('Number of Countries')\n",
    "plt.show()\n",
    "\n",
    "# strategy 2- drop duplicates\n",
    "# n_ctry_by_cont= gdp_df.drop_duplicates(subset=['Continent','Country'])['Country'].count()\n",
    "# n_ctry_by_cont.plot(kind='bar');\n",
    "# plt.title('Number of countries per continent')\n",
    "# plt.ylabel('Number of Countries')\n",
    "# plt.show()"
   ]
  },
  {
   "cell_type": "markdown",
   "id": "2819cd89-dd40-4040-b913-bd53658b43e1",
   "metadata": {},
   "source": [
    "### 20. Create a seaborn boxplot showing GDP per capita in 2021 split out by continent. What do you notice?"
   ]
  },
  {
   "cell_type": "code",
   "execution_count": 35,
   "id": "286e2ad0-179f-4b3c-927c-663f36f6a25c",
   "metadata": {},
   "outputs": [
    {
     "data": {
      "image/png": "[encoded data removed]",
      "text/plain": [
       "<Figure size 640x480 with 1 Axes>"
      ]
     },
     "metadata": {},
     "output_type": "display_data"
    }
   ],
   "source": [
    "gdp_update_2021= gdp_df[gdp_df['Year']== 2021]\n",
    "\n",
    "sns.boxplot(data= gdp_update_2021.sort_values(by='Continent'), y='Continent', x='GDP_Per_Capita')\n",
    "plt.title('GDP per capita in 2021 by continent')\n",
    "plt.ylabel('GDP per capita') \n",
    "plt.show()"
   ]
  },
  {
   "cell_type": "markdown",
   "id": "47d95086-a333-4e58-94a7-beba9589959f",
   "metadata": {},
   "source": [
    "**response** There is a wide range of variability across all the continents. Asia and Europe has a wide spread (wide range of values), indicating a high variability between indiviudal countries in those contient. Whereas Africa is relatviely more consistent across individual countries. THere is also a few outliers in all continents except south america, and Africa and Oceania has the most extreme right-skewed distribution. "
   ]
  },
  {
   "cell_type": "markdown",
   "id": "4b5e59c6-8cba-4df5-ba24-6b1c55a70a42",
   "metadata": {},
   "source": [
    "## 21. Download the full csv containing Life expectancy at birth, total (years) from https://data.worldbank.org/indicator/SP.DYN.LE00.IN?name_desc=false. Read this data into a DataFrame named life_expectancy. Note: When reading this dataset it, you may encounter an error. Modify your read_csv call to correct this without modifying the original csv file."
   ]
  },
  {
   "cell_type": "code",
   "execution_count": 55,
   "id": "9f687f0e-2ef7-4a39-8925-de25ca97c7cd",
   "metadata": {},
   "outputs": [
    {
     "data": {
      "text/html": [
       "<div>\n",
       "<style scoped>\n",
       "    .dataframe tbody tr th:only-of-type {\n",
       "        vertical-align: middle;\n",
       "    }\n",
       "\n",
       "    .dataframe tbody tr th {\n",
       "        vertical-align: top;\n",
       "    }\n",
       "\n",
       "    .dataframe thead th {\n",
       "        text-align: right;\n",
       "    }\n",
       "</style>\n",
       "<table border=\"1\" class=\"dataframe\">\n",
       "  <thead>\n",
       "    <tr style=\"text-align: right;\">\n",
       "      <th></th>\n",
       "      <th>Country Name</th>\n",
       "      <th>Country Code</th>\n",
       "      <th>Indicator Name</th>\n",
       "      <th>Indicator Code</th>\n",
       "      <th>1960</th>\n",
       "      <th>1961</th>\n",
       "      <th>1962</th>\n",
       "      <th>1963</th>\n",
       "      <th>1964</th>\n",
       "      <th>1965</th>\n",
       "      <th>...</th>\n",
       "      <th>2016</th>\n",
       "      <th>2017</th>\n",
       "      <th>2018</th>\n",
       "      <th>2019</th>\n",
       "      <th>2020</th>\n",
       "      <th>2021</th>\n",
       "      <th>2022</th>\n",
       "      <th>2023</th>\n",
       "      <th>2024</th>\n",
       "      <th>Unnamed: 69</th>\n",
       "    </tr>\n",
       "  </thead>\n",
       "  <tbody>\n",
       "    <tr>\n",
       "      <th>0</th>\n",
       "      <td>Aruba</td>\n",
       "      <td>ABW</td>\n",
       "      <td>Life expectancy at birth, total (years)</td>\n",
       "      <td>SP.DYN.LE00.IN</td>\n",
       "      <td>64.049000</td>\n",
       "      <td>64.215000</td>\n",
       "      <td>64.602000</td>\n",
       "      <td>64.944000</td>\n",
       "      <td>65.303000</td>\n",
       "      <td>65.615000</td>\n",
       "      <td>...</td>\n",
       "      <td>75.540000</td>\n",
       "      <td>75.620000</td>\n",
       "      <td>75.880000</td>\n",
       "      <td>76.019000</td>\n",
       "      <td>75.406000</td>\n",
       "      <td>73.655000</td>\n",
       "      <td>76.226000</td>\n",
       "      <td>76.353000</td>\n",
       "      <td>NaN</td>\n",
       "      <td>NaN</td>\n",
       "    </tr>\n",
       "    <tr>\n",
       "      <th>1</th>\n",
       "      <td>Africa Eastern and Southern</td>\n",
       "      <td>AFE</td>\n",
       "      <td>Life expectancy at birth, total (years)</td>\n",
       "      <td>SP.DYN.LE00.IN</td>\n",
       "      <td>44.169658</td>\n",
       "      <td>44.468838</td>\n",
       "      <td>44.877890</td>\n",
       "      <td>45.160583</td>\n",
       "      <td>45.535695</td>\n",
       "      <td>45.770723</td>\n",
       "      <td>...</td>\n",
       "      <td>62.167981</td>\n",
       "      <td>62.591275</td>\n",
       "      <td>63.330691</td>\n",
       "      <td>63.857261</td>\n",
       "      <td>63.766484</td>\n",
       "      <td>62.979999</td>\n",
       "      <td>64.487020</td>\n",
       "      <td>65.146291</td>\n",
       "      <td>NaN</td>\n",
       "      <td>NaN</td>\n",
       "    </tr>\n",
       "    <tr>\n",
       "      <th>2</th>\n",
       "      <td>Afghanistan</td>\n",
       "      <td>AFG</td>\n",
       "      <td>Life expectancy at birth, total (years)</td>\n",
       "      <td>SP.DYN.LE00.IN</td>\n",
       "      <td>32.799000</td>\n",
       "      <td>33.291000</td>\n",
       "      <td>33.757000</td>\n",
       "      <td>34.201000</td>\n",
       "      <td>34.673000</td>\n",
       "      <td>35.124000</td>\n",
       "      <td>...</td>\n",
       "      <td>62.646000</td>\n",
       "      <td>62.406000</td>\n",
       "      <td>62.443000</td>\n",
       "      <td>62.941000</td>\n",
       "      <td>61.454000</td>\n",
       "      <td>60.417000</td>\n",
       "      <td>65.617000</td>\n",
       "      <td>66.035000</td>\n",
       "      <td>NaN</td>\n",
       "      <td>NaN</td>\n",
       "    </tr>\n",
       "    <tr>\n",
       "      <th>3</th>\n",
       "      <td>Africa Western and Central</td>\n",
       "      <td>AFW</td>\n",
       "      <td>Life expectancy at birth, total (years)</td>\n",
       "      <td>SP.DYN.LE00.IN</td>\n",
       "      <td>37.779636</td>\n",
       "      <td>38.058956</td>\n",
       "      <td>38.681792</td>\n",
       "      <td>38.936918</td>\n",
       "      <td>39.194580</td>\n",
       "      <td>39.479784</td>\n",
       "      <td>...</td>\n",
       "      <td>56.392452</td>\n",
       "      <td>56.626439</td>\n",
       "      <td>57.036976</td>\n",
       "      <td>57.149847</td>\n",
       "      <td>57.364425</td>\n",
       "      <td>57.362572</td>\n",
       "      <td>57.987813</td>\n",
       "      <td>58.855722</td>\n",
       "      <td>NaN</td>\n",
       "      <td>NaN</td>\n",
       "    </tr>\n",
       "    <tr>\n",
       "      <th>4</th>\n",
       "      <td>Angola</td>\n",
       "      <td>AGO</td>\n",
       "      <td>Life expectancy at birth, total (years)</td>\n",
       "      <td>SP.DYN.LE00.IN</td>\n",
       "      <td>37.933000</td>\n",
       "      <td>36.902000</td>\n",
       "      <td>37.168000</td>\n",
       "      <td>37.419000</td>\n",
       "      <td>37.704000</td>\n",
       "      <td>37.968000</td>\n",
       "      <td>...</td>\n",
       "      <td>61.619000</td>\n",
       "      <td>62.122000</td>\n",
       "      <td>62.622000</td>\n",
       "      <td>63.051000</td>\n",
       "      <td>63.116000</td>\n",
       "      <td>62.958000</td>\n",
       "      <td>64.246000</td>\n",
       "      <td>64.617000</td>\n",
       "      <td>NaN</td>\n",
       "      <td>NaN</td>\n",
       "    </tr>\n",
       "  </tbody>\n",
       "</table>\n",
       "<p>5 rows × 70 columns</p>\n",
       "</div>"
      ],
      "text/plain": [
       "                  Country Name Country Code  \\\n",
       "0                        Aruba          ABW   \n",
       "1  Africa Eastern and Southern          AFE   \n",
       "2                  Afghanistan          AFG   \n",
       "3   Africa Western and Central          AFW   \n",
       "4                       Angola          AGO   \n",
       "\n",
       "                            Indicator Name  Indicator Code       1960  \\\n",
       "0  Life expectancy at birth, total (years)  SP.DYN.LE00.IN  64.049000   \n",
       "1  Life expectancy at birth, total (years)  SP.DYN.LE00.IN  44.169658   \n",
       "2  Life expectancy at birth, total (years)  SP.DYN.LE00.IN  32.799000   \n",
       "3  Life expectancy at birth, total (years)  SP.DYN.LE00.IN  37.779636   \n",
       "4  Life expectancy at birth, total (years)  SP.DYN.LE00.IN  37.933000   \n",
       "\n",
       "        1961       1962       1963       1964       1965  ...       2016  \\\n",
       "0  64.215000  64.602000  64.944000  65.303000  65.615000  ...  75.540000   \n",
       "1  44.468838  44.877890  45.160583  45.535695  45.770723  ...  62.167981   \n",
       "2  33.291000  33.757000  34.201000  34.673000  35.124000  ...  62.646000   \n",
       "3  38.058956  38.681792  38.936918  39.194580  39.479784  ...  56.392452   \n",
       "4  36.902000  37.168000  37.419000  37.704000  37.968000  ...  61.619000   \n",
       "\n",
       "        2017       2018       2019       2020       2021       2022  \\\n",
       "0  75.620000  75.880000  76.019000  75.406000  73.655000  76.226000   \n",
       "1  62.591275  63.330691  63.857261  63.766484  62.979999  64.487020   \n",
       "2  62.406000  62.443000  62.941000  61.454000  60.417000  65.617000   \n",
       "3  56.626439  57.036976  57.149847  57.364425  57.362572  57.987813   \n",
       "4  62.122000  62.622000  63.051000  63.116000  62.958000  64.246000   \n",
       "\n",
       "        2023  2024  Unnamed: 69  \n",
       "0  76.353000   NaN          NaN  \n",
       "1  65.146291   NaN          NaN  \n",
       "2  66.035000   NaN          NaN  \n",
       "3  58.855722   NaN          NaN  \n",
       "4  64.617000   NaN          NaN  \n",
       "\n",
       "[5 rows x 70 columns]"
      ]
     },
     "execution_count": 55,
     "metadata": {},
     "output_type": "execute_result"
    }
   ],
   "source": [
    "life_expectancy=pd.read_csv(r\"..\\data\\API_SP.DYN.LE00.IN_DS2_en_csv_v2_22997.csv\", skiprows=4)\n",
    "life_expectancy.head()"
   ]
  },
  {
   "cell_type": "markdown",
   "id": "a517e500-c098-482c-9a8a-cd48c2dd5272",
   "metadata": {},
   "source": [
    "#### 22. Drop the Country Code, Indicator Name, and Indicator Code columns. Then use .melt() to convert your data from wide to long. That is, instead of having one row per country and multiple colums per year, we want to have multiple rows per country and a single column for year. After melting, rename the columns to Country, Year, and Life_Expectancy."
   ]
  },
  {
   "cell_type": "code",
   "execution_count": 56,
   "id": "4b1009ee-a91f-4119-9a4f-446907791ea5",
   "metadata": {},
   "outputs": [
    {
     "data": {
      "text/html": [
       "<div>\n",
       "<style scoped>\n",
       "    .dataframe tbody tr th:only-of-type {\n",
       "        vertical-align: middle;\n",
       "    }\n",
       "\n",
       "    .dataframe tbody tr th {\n",
       "        vertical-align: top;\n",
       "    }\n",
       "\n",
       "    .dataframe thead th {\n",
       "        text-align: right;\n",
       "    }\n",
       "</style>\n",
       "<table border=\"1\" class=\"dataframe\">\n",
       "  <thead>\n",
       "    <tr style=\"text-align: right;\">\n",
       "      <th></th>\n",
       "      <th>Country</th>\n",
       "      <th>Year</th>\n",
       "      <th>Life_Expectancy</th>\n",
       "    </tr>\n",
       "  </thead>\n",
       "  <tbody>\n",
       "    <tr>\n",
       "      <th>0</th>\n",
       "      <td>Aruba</td>\n",
       "      <td>1960</td>\n",
       "      <td>64.049000</td>\n",
       "    </tr>\n",
       "    <tr>\n",
       "      <th>1</th>\n",
       "      <td>Africa Eastern and Southern</td>\n",
       "      <td>1960</td>\n",
       "      <td>44.169658</td>\n",
       "    </tr>\n",
       "    <tr>\n",
       "      <th>2</th>\n",
       "      <td>Afghanistan</td>\n",
       "      <td>1960</td>\n",
       "      <td>32.799000</td>\n",
       "    </tr>\n",
       "    <tr>\n",
       "      <th>3</th>\n",
       "      <td>Africa Western and Central</td>\n",
       "      <td>1960</td>\n",
       "      <td>37.779636</td>\n",
       "    </tr>\n",
       "    <tr>\n",
       "      <th>4</th>\n",
       "      <td>Angola</td>\n",
       "      <td>1960</td>\n",
       "      <td>37.933000</td>\n",
       "    </tr>\n",
       "    <tr>\n",
       "      <th>...</th>\n",
       "      <td>...</td>\n",
       "      <td>...</td>\n",
       "      <td>...</td>\n",
       "    </tr>\n",
       "    <tr>\n",
       "      <th>17019</th>\n",
       "      <td>Kosovo</td>\n",
       "      <td>2023</td>\n",
       "      <td>78.033000</td>\n",
       "    </tr>\n",
       "    <tr>\n",
       "      <th>17020</th>\n",
       "      <td>Yemen, Rep.</td>\n",
       "      <td>2023</td>\n",
       "      <td>69.295000</td>\n",
       "    </tr>\n",
       "    <tr>\n",
       "      <th>17021</th>\n",
       "      <td>South Africa</td>\n",
       "      <td>2023</td>\n",
       "      <td>66.139000</td>\n",
       "    </tr>\n",
       "    <tr>\n",
       "      <th>17022</th>\n",
       "      <td>Zambia</td>\n",
       "      <td>2023</td>\n",
       "      <td>66.349000</td>\n",
       "    </tr>\n",
       "    <tr>\n",
       "      <th>17023</th>\n",
       "      <td>Zimbabwe</td>\n",
       "      <td>2023</td>\n",
       "      <td>62.775000</td>\n",
       "    </tr>\n",
       "  </tbody>\n",
       "</table>\n",
       "<p>16926 rows × 3 columns</p>\n",
       "</div>"
      ],
      "text/plain": [
       "                           Country  Year  Life_Expectancy\n",
       "0                            Aruba  1960        64.049000\n",
       "1      Africa Eastern and Southern  1960        44.169658\n",
       "2                      Afghanistan  1960        32.799000\n",
       "3       Africa Western and Central  1960        37.779636\n",
       "4                           Angola  1960        37.933000\n",
       "...                            ...   ...              ...\n",
       "17019                       Kosovo  2023        78.033000\n",
       "17020                  Yemen, Rep.  2023        69.295000\n",
       "17021                 South Africa  2023        66.139000\n",
       "17022                       Zambia  2023        66.349000\n",
       "17023                     Zimbabwe  2023        62.775000\n",
       "\n",
       "[16926 rows x 3 columns]"
      ]
     },
     "execution_count": 56,
     "metadata": {},
     "output_type": "execute_result"
    }
   ],
   "source": [
    "life_expectancy= (\n",
    "    life_expectancy\n",
    "    .drop(columns=['Country Code', 'Indicator Name', 'Indicator Code', 'Unnamed: 69'])\n",
    "    .melt('Country Name', var_name= \"Year\", value_name= \"Life_Expectancy\")\n",
    "    .rename(columns={\"Country Name\" : \"Country\"})\n",
    ")\n",
    "\n",
    "life_expectancy= life_expectancy.dropna() #clean up the dataframe \n",
    "life_expectancy"
   ]
  },
  {
   "cell_type": "markdown",
   "id": "c0d96408-0633-432f-9ddb-bfecd0b13abe",
   "metadata": {},
   "source": [
    "#### 23. What was the first country with a life expectancy to exceed 80?"
   ]
  },
  {
   "cell_type": "code",
   "execution_count": 228,
   "id": "b592c414-d284-48c3-9baa-0ad9a86e465b",
   "metadata": {},
   "outputs": [
    {
     "name": "stdout",
     "output_type": "stream",
     "text": [
      "The First country for life expectancy to exceed 80 is Monaco in 1992\n"
     ]
    }
   ],
   "source": [
    "#create new dataframe with only rows with life expectancy over 80, and sort it by year\n",
    "year_by_expect= life_expectancy.loc[life_expectancy[\"Life_Expectancy\"] >= 80].sort_values(by='Year')\n",
    "\n",
    "#Filter the country and year info from this dataframe of the first country to achieve 80 life expectancy \n",
    "year_by_expect['Year']= year_by_expect['Year'].astype(int) #convert year values to integer to make filtering easier\n",
    "ctry_to_80= year_by_expect.nsmallest(1, 'Year', keep='all')['Country'] #pull out smallest, aka first year to reach 80, and pull out the country name from the dataframe\n",
    "year_to_80= year_by_expect.nsmallest(1, 'Year', keep='all')['Year']\n",
    "print(f'The First country for life expectancy to exceed 80 is {ctry_to_80.values[0]} in {year_to_80.values[0]}')\n",
    "\n"
   ]
  },
  {
   "cell_type": "markdown",
   "id": "a4cb3678-2d9e-4490-b1e8-cd4b1c6e7b9c",
   "metadata": {},
   "source": [
    "#### 24. Merge gdp_df and life_expectancy, keeping all countries and years that appear in both DataFrames. Save the result to a new DataFrame named gdp_le. If you get any errors in doing this, read them carefully and correct them. Look at the first five rows of your new data frame to confirm it merged correctly. Also, check the last five rows to make sure the data is clean and as expected."
   ]
  },
  {
   "cell_type": "code",
   "execution_count": 58,
   "id": "f57d495e-bb16-436d-a689-17438b228b89",
   "metadata": {},
   "outputs": [],
   "source": [
    "#prepare dataframes for merging \n",
    "#Standardize the Country columns \n",
    "gdp_df['Country']= gdp_df['Country'].str.lower()\n",
    "life_expectancy['Country']= life_expectancy['Country'].str.lower()\n",
    "\n",
    "#Prepare for all 'year' columns to be integers\n",
    "gdp_df['Year']= gdp_df['Year'].astype(int)\n",
    "life_expectancy['Year']= life_expectancy['Year'].astype(int)\n",
    "#Can also use an to_numeric method in pandas\n",
    "\n",
    "\n",
    "#Create a merge based on both the 'Country' and 'Year' columns, using an inner merge to only save the shared values\n",
    "gdp_le= pd.merge(\n",
    "    gdp_df, \n",
    "    life_expectancy, \n",
    "    on=['Country', 'Year'], \n",
    "    how='inner', \n",
    "    validate= 'one_to_one'\n",
    ").sort_values(by='Year') #sort by year to make sure no weird numbers were created when making year an integer"
   ]
  },
  {
   "cell_type": "code",
   "execution_count": 59,
   "id": "6763ca23-c545-472d-a4ee-9537e6ac532e",
   "metadata": {},
   "outputs": [
    {
     "data": {
      "text/html": [
       "<div>\n",
       "<style scoped>\n",
       "    .dataframe tbody tr th:only-of-type {\n",
       "        vertical-align: middle;\n",
       "    }\n",
       "\n",
       "    .dataframe tbody tr th {\n",
       "        vertical-align: top;\n",
       "    }\n",
       "\n",
       "    .dataframe thead th {\n",
       "        text-align: right;\n",
       "    }\n",
       "</style>\n",
       "<table border=\"1\" class=\"dataframe\">\n",
       "  <thead>\n",
       "    <tr style=\"text-align: right;\">\n",
       "      <th></th>\n",
       "      <th>Country</th>\n",
       "      <th>Year</th>\n",
       "      <th>GDP_Per_Capita</th>\n",
       "      <th>Continent</th>\n",
       "      <th>Life_Expectancy</th>\n",
       "    </tr>\n",
       "  </thead>\n",
       "  <tbody>\n",
       "    <tr>\n",
       "      <th>5855</th>\n",
       "      <td>zimbabwe</td>\n",
       "      <td>1990</td>\n",
       "      <td>4013.299059</td>\n",
       "      <td>Africa</td>\n",
       "      <td>58.319000</td>\n",
       "    </tr>\n",
       "    <tr>\n",
       "      <th>2567</th>\n",
       "      <td>jamaica</td>\n",
       "      <td>1990</td>\n",
       "      <td>8742.165149</td>\n",
       "      <td>North America</td>\n",
       "      <td>71.705000</td>\n",
       "    </tr>\n",
       "    <tr>\n",
       "      <th>2533</th>\n",
       "      <td>italy</td>\n",
       "      <td>1990</td>\n",
       "      <td>42618.171491</td>\n",
       "      <td>Europe</td>\n",
       "      <td>76.970732</td>\n",
       "    </tr>\n",
       "    <tr>\n",
       "      <th>2499</th>\n",
       "      <td>israel</td>\n",
       "      <td>1990</td>\n",
       "      <td>25172.348384</td>\n",
       "      <td>Asia</td>\n",
       "      <td>76.607317</td>\n",
       "    </tr>\n",
       "    <tr>\n",
       "      <th>2465</th>\n",
       "      <td>ireland</td>\n",
       "      <td>1990</td>\n",
       "      <td>29567.221992</td>\n",
       "      <td>Europe</td>\n",
       "      <td>74.846073</td>\n",
       "    </tr>\n",
       "  </tbody>\n",
       "</table>\n",
       "</div>"
      ],
      "text/plain": [
       "       Country  Year  GDP_Per_Capita      Continent  Life_Expectancy\n",
       "5855  zimbabwe  1990     4013.299059         Africa        58.319000\n",
       "2567   jamaica  1990     8742.165149  North America        71.705000\n",
       "2533     italy  1990    42618.171491         Europe        76.970732\n",
       "2499    israel  1990    25172.348384           Asia        76.607317\n",
       "2465   ireland  1990    29567.221992         Europe        74.846073"
      ]
     },
     "execution_count": 59,
     "metadata": {},
     "output_type": "execute_result"
    }
   ],
   "source": [
    "#view dataframe to check merge \n",
    "gdp_le.head(5)"
   ]
  },
  {
   "cell_type": "code",
   "execution_count": 60,
   "id": "6f5762c5-a05f-41d1-afd1-bef6400987ab",
   "metadata": {},
   "outputs": [
    {
     "data": {
      "text/html": [
       "<div>\n",
       "<style scoped>\n",
       "    .dataframe tbody tr th:only-of-type {\n",
       "        vertical-align: middle;\n",
       "    }\n",
       "\n",
       "    .dataframe tbody tr th {\n",
       "        vertical-align: top;\n",
       "    }\n",
       "\n",
       "    .dataframe thead th {\n",
       "        text-align: right;\n",
       "    }\n",
       "</style>\n",
       "<table border=\"1\" class=\"dataframe\">\n",
       "  <thead>\n",
       "    <tr style=\"text-align: right;\">\n",
       "      <th></th>\n",
       "      <th>Country</th>\n",
       "      <th>Year</th>\n",
       "      <th>GDP_Per_Capita</th>\n",
       "      <th>Continent</th>\n",
       "      <th>Life_Expectancy</th>\n",
       "    </tr>\n",
       "  </thead>\n",
       "  <tbody>\n",
       "    <tr>\n",
       "      <th>2262</th>\n",
       "      <td>hungary</td>\n",
       "      <td>2023</td>\n",
       "      <td>40167.992479</td>\n",
       "      <td>Europe</td>\n",
       "      <td>76.770732</td>\n",
       "    </tr>\n",
       "    <tr>\n",
       "      <th>2296</th>\n",
       "      <td>iceland</td>\n",
       "      <td>2023</td>\n",
       "      <td>66880.065810</td>\n",
       "      <td>Europe</td>\n",
       "      <td>82.607317</td>\n",
       "    </tr>\n",
       "    <tr>\n",
       "      <th>2330</th>\n",
       "      <td>india</td>\n",
       "      <td>2023</td>\n",
       "      <td>9160.063654</td>\n",
       "      <td>Asia</td>\n",
       "      <td>72.003000</td>\n",
       "    </tr>\n",
       "    <tr>\n",
       "      <th>2160</th>\n",
       "      <td>haiti</td>\n",
       "      <td>2023</td>\n",
       "      <td>2956.462137</td>\n",
       "      <td>North America</td>\n",
       "      <td>64.936000</td>\n",
       "    </tr>\n",
       "    <tr>\n",
       "      <th>0</th>\n",
       "      <td>afghanistan</td>\n",
       "      <td>2023</td>\n",
       "      <td>1992.424394</td>\n",
       "      <td>Asia</td>\n",
       "      <td>66.035000</td>\n",
       "    </tr>\n",
       "  </tbody>\n",
       "</table>\n",
       "</div>"
      ],
      "text/plain": [
       "          Country  Year  GDP_Per_Capita      Continent  Life_Expectancy\n",
       "2262      hungary  2023    40167.992479         Europe        76.770732\n",
       "2296      iceland  2023    66880.065810         Europe        82.607317\n",
       "2330        india  2023     9160.063654           Asia        72.003000\n",
       "2160        haiti  2023     2956.462137  North America        64.936000\n",
       "0     afghanistan  2023     1992.424394           Asia        66.035000"
      ]
     },
     "execution_count": 60,
     "metadata": {},
     "output_type": "execute_result"
    }
   ],
   "source": [
    "#view dataframe to check merge \n",
    "gdp_le.tail(5)"
   ]
  },
  {
   "cell_type": "markdown",
   "id": "048c7408-df04-4fd7-8433-432116b47e57",
   "metadata": {},
   "source": [
    "## 25. Create a new DataFrame, named gdp_le_2021 by extracting data for the year 2021 from gdp_le. How many countries have a life expectancy of at least 80 in 2021?"
   ]
  },
  {
   "cell_type": "code",
   "execution_count": 61,
   "id": "ca30251c-ea1d-42a8-a078-b92ad6aa6ae7",
   "metadata": {},
   "outputs": [
    {
     "name": "stdout",
     "output_type": "stream",
     "text": [
      "The total number of countries with a life expectancy of 80 or greater in 2021 is 33\n"
     ]
    }
   ],
   "source": [
    "#create 2021 dataframe\n",
    "gdp_le_2021= gdp_le[gdp_le['Year'] == 2021]\n",
    "\n",
    "#Pull out only rows where life_expectancy is at least 80 and count the unique country values\n",
    "count_2021_over80= gdp_le_2021[gdp_le_2021['Life_Expectancy'] >= 80]['Country'].nunique() #I used the unique incase there are any duplicates \n",
    "print(f'The total number of countries with a life expectancy of 80 or greater in 2021 is {count_2021_over80}')"
   ]
  },
  {
   "cell_type": "markdown",
   "id": "7cc77b98-6de5-4425-b309-18055d97edc4",
   "metadata": {},
   "source": [
    "## 26. Find the countries that had the top 3 largest GDP per capita figures for 2021. Create a seaborn FacetGrid showing the change in life expectancy over time for these three countries. Each individual figure in the facet grid will represent a single country."
   ]
  },
  {
   "cell_type": "code",
   "execution_count": 66,
   "id": "90ef16e3-3c49-4442-90f8-173d4dbb4095",
   "metadata": {},
   "outputs": [
    {
     "name": "stdout",
     "output_type": "stream",
     "text": [
      "The top 3 countries with highest GDP_Per_Capita in 2021 are: ['luxembourg', 'singapore', 'ireland']\n",
      "The countries contained in the filtered gdp_dataframe are: ['ireland' 'luxembourg' 'singapore']\n"
     ]
    },
    {
     "data": {
      "text/plain": [
       "<seaborn.axisgrid.FacetGrid at 0x2f4905ee6c0>"
      ]
     },
     "execution_count": 66,
     "metadata": {},
     "output_type": "execute_result"
    },
    {
     "data": {
      "image/png": "[encoded data removed]",
      "text/plain": [
       "<Figure size 900x300 with 3 Axes>"
      ]
     },
     "metadata": {},
     "output_type": "display_data"
    }
   ],
   "source": [
    "#Filter larget GDP_Per_Capita in the 2021 dataframe, and save the top 3 countries in a new dataframe\n",
    "top3_gdp= (\n",
    "    gdp_le_2021\n",
    "    .sort_values(by='GDP_Per_Capita', ascending=False)\n",
    "    .iloc[:3]\n",
    ")\n",
    "\n",
    "#Save these countries in a list, then filter the full dataset with all years by these countries \n",
    "list_top3= top3_gdp['Country'].tolist()\n",
    "\n",
    "#Pull out full gdp_le and calculate change in life expectancy \n",
    "gdp_le_top3= (\n",
    "    gdp_le[(gdp_le['Country'] == list_top3[0]) | (gdp_le['Country'] == list_top3[1]) | (gdp_le['Country'] == list_top3[2])]\n",
    "# ##alternative: use .isin for filter \n",
    "# gdp_le_top3= gdp_le[gdp_le['Country'].isin(list_top3)]\n",
    "# ##\n",
    "#Validate fitlering was correct \n",
    "print(f'The top 3 countries with highest GDP_Per_Capita in 2021 are: {list_top3}') \n",
    "print(f'The countries contained in the filtered gdp_dataframe are: {gdp_le_top3['Country'].unique()}')\n",
    "\n",
    "#Create a dataframe for only the columns for graphing \n",
    "for_plot= gdp_le_top3[['Country', 'Year', 'Life_Expectancy']]\n",
    "\n",
    "#Create the facetgrid with year and life expectancy \n",
    "top3_grid= sns.FacetGrid(for_plot, col='Country')\n",
    "top3_grid.map(sns.scatterplot, 'Year', 'Life_Expectancy')"
   ]
  },
  {
   "cell_type": "markdown",
   "id": "94ebeb3e-a61c-4519-84aa-23e8b4e814e7",
   "metadata": {},
   "source": [
    "#### 27. Create a scatter plot of Life Expectancy vs GDP per Capita for the year 2021. What do you notice?"
   ]
  },
  {
   "cell_type": "code",
   "execution_count": null,
   "id": "e6b86f69-fdc6-4394-9446-2f93db4333b6",
   "metadata": {},
   "outputs": [],
   "source": [
    "gdp_le_2021\n",
    "\n",
    "#Create a scatterplot (of all countries?) \n",
    "plt.scatter(gdp_le_2021['GDP_Per_Capita'], gdp_le_2021['Life_Expectancy'])\n",
    "plt.xlabel('GDP per capita')\n",
    "plt.ylabel('life expectancy')\n",
    "plt.title(f'Life Expectancy vs GDP per capita of all countries in 2021')\n",
    "plt.show()"
   ]
  },
  {
   "cell_type": "markdown",
   "id": "81b5f975-ef05-4fe4-9b7b-1953f895ee0b",
   "metadata": {},
   "source": [
    "The Scatterplot shows that there is a non-linear but potentially positive association between life expectancy and GDP in 2021. There is also some clustering in the extreme values, whereas the bulk of  the coutries in the middle might have a more defined positive correlation if the extremes were removed"
   ]
  },
  {
   "cell_type": "markdown",
   "id": "92bc65b7-efcc-41e2-bfaa-9c3b66a5a5cd",
   "metadata": {},
   "source": [
    "#### 28. Find the correlation between Life Expectancy and GDP per Capita for the year 2021. What is the meaning of this number?"
   ]
  },
  {
   "cell_type": "code",
   "execution_count": null,
   "id": "ccf57888-4299-4217-92ff-0ef9a30e8fe8",
   "metadata": {},
   "outputs": [],
   "source": [
    "legdp_2021_corr= gdp_le_2021['GDP_Per_Capita'].corr(gdp_le_2021['Life_Expectancy'])\n",
    "print(f'The correlation coefficent between life expectancy and gdp per capita in 2021 is= {legdp_2021_corr}')\n",
    "\n",
    "plt.scatter(gdp_le_2021['GDP_Per_Capita'], gdp_le_2021['Life_Expectancy'])\n",
    "plt.xlabel('GDP per capita')\n",
    "plt.ylabel('life expectancy')\n",
    "plt.title(f'Life Expectancy vs GDP per capita of all countries in 2021 \\n Correlation = {legdp_2021_corr}')\n",
    "plt.show()"
   ]
  },
  {
   "cell_type": "markdown",
   "id": "944ecb03-ad27-471e-ab6b-1542b8a64788",
   "metadata": {},
   "source": [
    "The correlation = 0.75 is a measurement between 0 and 1. The 0.75 shows that the correlation is positive, and the closer to 1 the value, the higher the correlation. So there is a realtively high positive correlation between life expectancy and gdp per capita in 2021"
   ]
  },
  {
   "cell_type": "markdown",
   "id": "50142f3d-c6c5-457a-baba-3b98e8d1de8d",
   "metadata": {},
   "source": [
    "#### 29. Add a column to gdp_le_2021 and calculate the logarithm of GDP per capita. Find the correlation between the log of GDP per capita and life expectancy. How does this compare to the calculation in the previous part? Look at a scatter plot to see if the result of this calculation makes sense."
   ]
  },
  {
   "cell_type": "code",
   "execution_count": null,
   "id": "e86bb81f-1ef9-4e12-a2cf-bddfaae319f0",
   "metadata": {},
   "outputs": [],
   "source": [
    "gdp_le_2021['log_GDP']= np.log(gdp_le_2021['GDP_Per_Capita'])\n",
    "gdp_le_2021\n",
    "\n",
    "#Find the correlation\n",
    "log_corr= gdp_le_2021['log_GDP'].corr(gdp_le_2021['Life_Expectancy'])\n",
    "print(f'The correlation coefficent between life expectancy and LOG gdp per capita in 2021 is= {log_corr}')"
   ]
  },
  {
   "cell_type": "markdown",
   "id": "cf4ce9f8-8fd0-4b38-a892-fb638d25e886",
   "metadata": {},
   "source": [
    "The correlation of log GDP vs life expectancy is greater (0.85) than gdp v life expectancy (0.75). This makes sense, since the original scatterplot had a non-linear distribution, and log transformation would fit the scatterplot shape more accurately, from examining it by eye. Therefore, the greater correlation makes logical sense to me. "
   ]
  },
  {
   "cell_type": "code",
   "execution_count": null,
   "id": "8bd780a4-2531-4768-ba6a-927954d5a0ac",
   "metadata": {},
   "outputs": [],
   "source": [
    "#Create a scatterplot (of all countries?) \n",
    "plt.scatter(gdp_le_2021['log_GDP'], gdp_le_2021['Life_Expectancy'])\n",
    "plt.xlabel('GDP per capita (log)')\n",
    "plt.ylabel('life expectancy')\n",
    "plt.title(f'Life Expectancy vs LOG GDP per capita of all countries in 2021 \\n Correlation = {log_corr}')\n",
    "plt.show()"
   ]
  },
  {
   "cell_type": "markdown",
   "id": "490aa9f1-f3ae-466b-8a14-34f660fb8400",
   "metadata": {},
   "source": [
    "--------------------"
   ]
  },
  {
   "cell_type": "markdown",
   "id": "724e9e93-13d5-4377-8dfe-c08690edb730",
   "metadata": {},
   "source": [
    "## Bonus: Solo Exploration:\n",
    "Choose and download another data set from the UN data http://data.un.org/Explorer.aspx to explore. You may want to combine your new dataset with one or both of the datasets that you already worked with. Report any interesting correlations or trends that you find.\n",
    "If time allows, check out the plotly library to add additional interativity to your plots. https://plotly.com/python/plotly-express/."
   ]
  },
  {
   "cell_type": "markdown",
   "id": "00efc64b-98e9-4a00-a1bf-f6d022de64c9",
   "metadata": {},
   "source": []
  },
  {
   "cell_type": "markdown",
   "id": "144205cd-d56c-47a2-a736-20f9b48f82f0",
   "metadata": {},
   "source": [
    "--------------------"
   ]
  },
  {
   "cell_type": "markdown",
   "id": "6327b45c-1689-48b2-890a-7d177dec3214",
   "metadata": {},
   "source": []
  },
  {
   "cell_type": "markdown",
   "id": "fb46cf14-2423-49a9-9bcb-8745c093da88",
   "metadata": {},
   "source": [
    "## UN Data Exploration Bonus Questions\n",
    "This set of exercises is designed to give you a chance to try out some more advanced features of the pandas library. These exercises will be using the gdp_le DataFrame that you created for the regular exercises, meaning that it will have columns for Country, Year, GDP_Per_Capita, Continent, and Life_Expectancy."
   ]
  },
  {
   "cell_type": "code",
   "execution_count": null,
   "id": "7e869733-7fb8-4330-ab1c-1f82a0ee2d3a",
   "metadata": {},
   "outputs": [],
   "source": [
    "gdp_le.sample(10)"
   ]
  },
  {
   "cell_type": "markdown",
   "id": "56b546e9-d023-4cd6-bca1-996547ce9e8d",
   "metadata": {},
   "source": [
    "## 1. Let's compare the median life expectacy for each across all of the years of data that we have. Perform a groupby on both Year and Continent and then aggregate using the median and save the results to a new object."
   ]
  },
  {
   "cell_type": "code",
   "execution_count": null,
   "id": "0ecbdc6d-b228-47da-8944-f5264f417000",
   "metadata": {},
   "outputs": [],
   "source": [
    "med_le_by_year= gdp_le.groupby(['Year', 'Continent'])['Life_Expectancy'].agg('median')"
   ]
  },
  {
   "cell_type": "markdown",
   "id": "adfb4a68-4cea-4740-b3d0-12344ff39748",
   "metadata": {},
   "source": [
    "### 1a. What type of object results from this?"
   ]
  },
  {
   "cell_type": "code",
   "execution_count": null,
   "id": "f2f1a58e-34bb-4039-b28a-9703c4f16bd2",
   "metadata": {},
   "outputs": [],
   "source": [
    "med_le_by_year.info()"
   ]
  },
  {
   "cell_type": "markdown",
   "id": "441ef693-9a14-4965-97f2-2003cdfd5dd6",
   "metadata": {},
   "source": [
    "**reponse** The result is a pandas series object, with a float dtype with all numbers having decimals. "
   ]
  },
  {
   "cell_type": "markdown",
   "id": "ee53ff7c-1e58-41cb-a89e-b682538395db",
   "metadata": {},
   "source": [
    "### 1b. Look at the index of the resulting object. What do you notice about it?"
   ]
  },
  {
   "cell_type": "code",
   "execution_count": null,
   "id": "192114f2-4440-410f-b3cf-47173befa6e7",
   "metadata": {},
   "outputs": [],
   "source": [
    "med_le_by_year.index"
   ]
  },
  {
   "cell_type": "markdown",
   "id": "e46f42ab-eb30-4eb1-9c60-8e6a37410511",
   "metadata": {},
   "source": [
    "**response** The index is a MultiIndex, which looks like a list of lists, with both the key value of year and the key value of country saved in each individual index location. So index[0] would produce a single list with a year and country name in it"
   ]
  },
  {
   "cell_type": "markdown",
   "id": "0e4b46dd-f9df-45aa-81f3-8217cd09d8aa",
   "metadata": {},
   "source": [
    "### 1c. Use .loc to select the median life expectancy for Asia in 2010."
   ]
  },
  {
   "cell_type": "code",
   "execution_count": null,
   "id": "25dfd7b3-d1bd-46cc-a185-9e7c7d425aeb",
   "metadata": {},
   "outputs": [],
   "source": [
    "med_le_asia= med_le_by_year.loc[(2010, 'Asia')]\n",
    "print(f'The median life expectancy for Asia in 2010 is {med_le_asia}')"
   ]
  },
  {
   "cell_type": "markdown",
   "id": "acef0c0a-b740-4429-8651-6190caaa36b0",
   "metadata": {},
   "source": [
    "### 1d. Use .loc to select the median life expectancy for both Asia and Africa in 2010."
   ]
  },
  {
   "cell_type": "code",
   "execution_count": null,
   "id": "5c5dbcd6-e748-491a-a908-43d1735d3534",
   "metadata": {},
   "outputs": [],
   "source": [
    "med_le_asiaafrica= med_le_by_year.loc[[(2010, 'Asia'), (2010, 'Africa')]]\n",
    "med_le_asiaafrica.iloc[0]\n",
    "\n",
    "print(f'The median life expectancy for Asia in 2010 is {med_le_asiaafrica.iloc[0]}' + '\\n ' +\n",
    "f'and the median life expectancy for Africa in 2010 is {med_le_asiaafrica.iloc[1]}')"
   ]
  },
  {
   "cell_type": "markdown",
   "id": "ba5b0c4f-5cc9-4af1-997f-17b2a4444432",
   "metadata": {},
   "source": [
    "### 1e. Use .loc to select the values for all continents for the year 2010."
   ]
  },
  {
   "cell_type": "code",
   "execution_count": null,
   "id": "ca006f6e-be19-4be3-8f27-027889006a0d",
   "metadata": {},
   "outputs": [],
   "source": [
    "med_le_allcont= med_le_by_year.loc[2010]\n",
    "print(f'The life expectancy for all continents in 2010 is shown by this table: \\n {med_le_allcont}')"
   ]
  },
  {
   "cell_type": "markdown",
   "id": "0c232289-f9d5-46a7-8727-4ff3938f519d",
   "metadata": {},
   "source": []
  },
  {
   "cell_type": "markdown",
   "id": "576ea0a7-4cdc-4eb4-bd0c-32e1d10c952b",
   "metadata": {},
   "source": [
    "### 1f. Use .loc to select the median life expectancy for Asia across all years. Hint: One way to do this is to use the swaplevels method."
   ]
  },
  {
   "cell_type": "code",
   "execution_count": null,
   "id": "75d3d712-addd-4afb-989f-6b4a540c439a",
   "metadata": {},
   "outputs": [],
   "source": [
    "med_le_df= pd.DataFrame(med_le_by_year).swaplevel()\n",
    "\n",
    "#FIlter out the multiindex to only get Asia datapoints\n",
    "med_le_df_asia= med_le_df[med_le_df.index.get_level_values('Continent') == 'Asia']\n",
    "\n",
    "#Create a graph \n",
    "ax= med_le_df_asia.plot(legend=False)\n",
    "#Figure formatting\n",
    "year_list= med_le_df_asia.index.get_level_values('Year').tolist() #clean up x axis \n",
    "ax.set_xticks(ticks=range(len(year_list)), labels= year_list, rotation=90)\n",
    "plt.title('Median life expectancy for Asia across all years')\n",
    "plt.ylabel('Median life expectancy')\n",
    "plt.xlabel('')\n",
    "plt.tight_layout()\n",
    "plt.show()"
   ]
  },
  {
   "cell_type": "markdown",
   "id": "1294cd9c-f93b-4e06-9e83-ff543a38a515",
   "metadata": {},
   "source": [
    "## 2. Group gdp_le by both Year and Continent and find the min, median, and max values for both gdp per capita and life expectancy. Hint: You may want to use the agg method."
   ]
  },
  {
   "cell_type": "code",
   "execution_count": null,
   "id": "4b7157a3-9cef-4737-b354-5d662eb70f72",
   "metadata": {},
   "outputs": [],
   "source": [
    "gdp_le"
   ]
  },
  {
   "cell_type": "markdown",
   "id": "ecd9417b-07b1-44cd-8af4-8525cb877605",
   "metadata": {},
   "source": [
    "### 2a. Look at the columns of the resulting object. What do you notice?"
   ]
  },
  {
   "cell_type": "markdown",
   "id": "8c9866f0-bff3-42fd-ab01-1ff3ad77ac33",
   "metadata": {},
   "source": [
    "### 2b. Select the median gdp per capita value for Asia in 2010."
   ]
  },
  {
   "cell_type": "markdown",
   "id": "726e3e85-80a4-48ec-84a3-705166842a08",
   "metadata": {},
   "source": [
    "3. In this question, we'll see how the median gdp per capita has changed over time. Start by creating a Series, gdp_median_per_year by grouping by the Year variable and calculating the median gdp per capita.\n",
    "* a. Convert gdp_median_per_year to a DataFrame by using the reset_index method.\n",
    "* b. The shift method will allow you to compare values across rows. Use this method to create a new column showing the change in gdp per capita since the prior year.\n",
    "* c. How many times was there a drop in median gdp per capita from one year to the next?\n",
    "\n",
    "4. Now, let's expand on the prior question to find the change in GDP from year to year for each country.\n",
    "* a. Add a new column to the gdp_le DataFrame showing the change in gdp per capita from the prior year for that country. Hint: You can combine groupby with the shift method.\n",
    "* b. Which country had the largest one year increase in gdp per capita? Which had the largest one year drop in gdp per capita?\n",
    "\n",
    "5. When looking at time series data, there can often be a large amount of observation to observation variability, making it more difficult to see general trends. This variability can be smoothed out by calculating rolling averages. We'll see how in this question.\n",
    "* a. First, filter gdp_le down to just the rows for the United States and save the result to a DataFrame named gdp_le_us.\n",
    "* b. Use rolling to calculate the 3-year moving average of gdp per capita for the US.\n",
    "* c. Plot both the original gdp per capita values and the rolling average on the same plot.\n",
    "\n",
    "6. When working with large datasets, it can sometimes pay off to be mindful of what data types you are using for each variable.\n",
    "* a. Create a new column, Continent_Category by converting the Continent column to a category.\n",
    "* b. Use the memory_usage method to compare the memory used by the original Continent column compared to the category version.\n",
    "* c. You can also sometimes get speedups for groupby operations by using category datatypes. In Jupyter, if you want to estimate how long it takes to run a block of code, you can add the %%timeit magic to the top of a cell. Compare doing a groupby + aggregation on the original Continent column compared to the Continent_Category column.\n",
    "* d. You can also sometimes save memory usage by adjusting the size that is stored for integer values. By default, the int64 type is used which can store values between –9223372036854775808 and 9223372036854775807. However, for the Year variable, we really don't need that large of a range. We could get by with a 16 bit integer, whose range is -32768 to 32768. Convert the Year column to int16 type and then compare the memory usage.\n",
    "* e. Finally, you don't have to make these datatype changes after the data has been read in. Add some parameters to the read_csv call that imports the GDP data. Read in only the needed columns (not the Value Footnotes column). Also, read in the Country or Area column as a category type and the Year column as an int16 type."
   ]
  }
 ],
 "metadata": {
  "kernelspec": {
   "display_name": "Python 3 (ipykernel)",
   "language": "python",
   "name": "python3"
  },
  "language_info": {
   "codemirror_mode": {
    "name": "ipython",
    "version": 3
   },
   "file_extension": ".py",
   "mimetype": "text/x-python",
   "name": "python",
   "nbconvert_exporter": "python",
   "pygments_lexer": "ipython3",
   "version": "3.12.4"
  }
 },
 "nbformat": 4,
 "nbformat_minor": 5
}
